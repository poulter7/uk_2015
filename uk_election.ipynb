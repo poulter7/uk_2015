{
 "cells": [
  {
   "cell_type": "markdown",
   "metadata": {},
   "source": [
    "Let's import some libraries we'll use later on"
   ]
  },
  {
   "cell_type": "code",
   "execution_count": 1,
   "metadata": {
    "collapsed": false
   },
   "outputs": [],
   "source": [
    "import requests\n",
    "import pandas as pd\n",
    "from bs4 import BeautifulSoup\n",
    "from collections import defaultdict\n",
    "import multiprocessing\n",
    "import matplotlib\n",
    "import numpy as np\n",
    "import matplotlib.pyplot as plt\n",
    "%matplotlib inline  \n",
    "pd.options.display.mpl_style = 'default'\n",
    "\n",
    "def colors(index):\n",
    "    \"\"\"Define party colours\"\"\"\n",
    "    from collections import defaultdict\n",
    "    cm = defaultdict(lambda: 'w', {'Cons': '#0575c9', 'Labour': '#ed1e0e', 'UKIP': '#712f87',\n",
    "         'SNP': '#ebc31c', 'Lib Dem': '#fe8300',\n",
    "         'Green': '#78c31e', 'DUP': '#c0153d','Plaid Cymru': '#4e9f2f',\n",
    "         'Sinn Fein': '#00623f', 'UUP': '#6ab1e6',\n",
    "         'SDLP': '#65a966',\n",
    "    })\n",
    "    return [cm[party] for party in index]\n",
    "\n",
    "aliases = { 'Conservative': 'Cons', 'Scottish National Party': 'SNP', 'Green Party': 'Green', \n",
    "    'Democratic Unionist Party': 'DUP', 'Ulster Unionist Party': 'UUP', \n",
    "    'Liberal Democrat': 'Lib Dem', 'Social Democratic & Labour Party': 'SDLP', 'Speaker': 'Cons',\n",
    "    'Independent Sylvia Hermon': 'IND',\n",
    "}"
   ]
  },
  {
   "cell_type": "markdown",
   "metadata": {},
   "source": [
    "## The Data"
   ]
  },
  {
   "cell_type": "markdown",
   "metadata": {},
   "source": [
    "#### Gathering Election Data"
   ]
  },
  {
   "cell_type": "markdown",
   "metadata": {},
   "source": [
    "First thing's first we're going to need some data to work with. According to the Electoral Commision General Election 2015 website the BBC is the official source for this data. \n",
    "\n",
    "http://www.electoralcommission.org.uk/find-information-by-subject/elections-and-referendums/upcoming-elections-and-referendums/uk-parliamentary-general-election-2015\n",
    "\n",
    "The BBC doesn't provide a raw format or API to get at this, so we'll use BeautifulSoup!"
   ]
  },
  {
   "cell_type": "markdown",
   "metadata": {},
   "source": [
    "The first constituency, alphabetically, is Aberavon. The BBC has made their data accessible by the constituency GSS (Government Statistical Service ID), http://en.wikipedia.org/wiki/ONS_coding_system. The results from the bbc page for the Aberavon result can be found at: http://www.bbc.com/news/politics/constituencies/W07000049. \n",
    "\n",
    "*A note here is to be sure to  distinguish results from multiple independent candidates, as they do not stand for the same party. An example constituency is Blackpool South: http://www.bbc.com/news/politics/constituencies/E14000573.*"
   ]
  },
  {
   "cell_type": "code",
   "execution_count": 2,
   "metadata": {
    "collapsed": false
   },
   "outputs": [
    {
     "data": {
      "text/plain": [
       "Labour                       15416\n",
       "UKIP                          4971\n",
       "Conservative                  3742\n",
       "Plaid Cymru                   3663\n",
       "Liberal Democrat              1397\n",
       "Independent Captain Beany     1137\n",
       "Green Party                    711\n",
       "Socialist Labour Party         352\n",
       "TUSC                           134\n",
       "Name: W07000049, dtype: int64"
      ]
     },
     "execution_count": 2,
     "metadata": {},
     "output_type": "execute_result"
    }
   ],
   "source": [
    "def constituency_results(constituency_id):\n",
    "    r = requests.get(\"http://www.bbc.com/news/politics/constituencies/\"+constituency_id)\n",
    "    data = r.text\n",
    "    soup = BeautifulSoup(data)\n",
    "    name = soup.find('h1', class_='constituency-title__title').text\n",
    "    result = soup.find('div', class_='election2015-results')\n",
    "    parties = result.find_all('div', class_='party')\n",
    "    data = []\n",
    "    for party in parties:\n",
    "        vote_text = party.find('li', class_='party__result--votes').text\n",
    "        vote_count = int(vote_text.split()[0].replace(',', ''))\n",
    "        party_name = party.find('div', class_='party__name--long').text\n",
    "        if party_name == 'Independent':\n",
    "            candidate_text = party.find('div', class_='party__result--candidate').text\n",
    "            party_name += ' ' + candidate_text.replace(', with candidate ', '')\n",
    "        data.append((vote_count, party_name))\n",
    "    vote_counts, parties = zip(*data)\n",
    "    return pd.Series(vote_counts, index=parties, name=constituency_id)\n",
    "\n",
    "constituency_results('W07000049')"
   ]
  },
  {
   "cell_type": "markdown",
   "metadata": {},
   "source": [
    "#### Gathering Data for All Constituencies"
   ]
  },
  {
   "cell_type": "markdown",
   "metadata": {},
   "source": [
    "To find all results, we'll need a list of every constituency. We expect 650 in total, the easiest way I found to get this was to get information for each candidate from https://yournextmp.com and take the set of unique gss_codes. This will prove useful later, when we start to do some mapping."
   ]
  },
  {
   "cell_type": "code",
   "execution_count": 3,
   "metadata": {
    "collapsed": false
   },
   "outputs": [
    {
     "data": {
      "text/html": [
       "<div style=\"max-height:1000px;max-width:1500px;overflow:auto;\">\n",
       "<table border=\"1\" class=\"dataframe\">\n",
       "  <thead>\n",
       "    <tr style=\"text-align: right;\">\n",
       "      <th></th>\n",
       "      <th>id</th>\n",
       "      <th>party</th>\n",
       "      <th>constituency</th>\n",
       "      <th>mapit_id</th>\n",
       "      <th>mapit_url</th>\n",
       "      <th>gss_code</th>\n",
       "      <th>twitter_username</th>\n",
       "      <th>facebook_page_url</th>\n",
       "      <th>party_ppc_page_url</th>\n",
       "      <th>gender</th>\n",
       "      <th>...</th>\n",
       "      <th>honorific_prefix</th>\n",
       "      <th>honorific_suffix</th>\n",
       "      <th>party_id</th>\n",
       "      <th>linkedin_url</th>\n",
       "      <th>elected</th>\n",
       "      <th>image_url</th>\n",
       "      <th>proxy_image_url_template</th>\n",
       "      <th>image_copyright</th>\n",
       "      <th>image_uploading_user</th>\n",
       "      <th>image_uploading_user_notes</th>\n",
       "    </tr>\n",
       "    <tr>\n",
       "      <th>name</th>\n",
       "      <th></th>\n",
       "      <th></th>\n",
       "      <th></th>\n",
       "      <th></th>\n",
       "      <th></th>\n",
       "      <th></th>\n",
       "      <th></th>\n",
       "      <th></th>\n",
       "      <th></th>\n",
       "      <th></th>\n",
       "      <th></th>\n",
       "      <th></th>\n",
       "      <th></th>\n",
       "      <th></th>\n",
       "      <th></th>\n",
       "      <th></th>\n",
       "      <th></th>\n",
       "      <th></th>\n",
       "      <th></th>\n",
       "      <th></th>\n",
       "      <th></th>\n",
       "    </tr>\n",
       "  </thead>\n",
       "  <tbody>\n",
       "    <tr>\n",
       "      <th>Captain Beany</th>\n",
       "      <td>20</td>\n",
       "      <td>Independent</td>\n",
       "      <td>Aberavon</td>\n",
       "      <td>66101</td>\n",
       "      <td>http://mapit.mysociety.org/area/66101</td>\n",
       "      <td>W07000049</td>\n",
       "      <td>captainbeany</td>\n",
       "      <td>https://www.facebook.com/VoteCaptainBeany</td>\n",
       "      <td>NaN</td>\n",
       "      <td>male</td>\n",
       "      <td>...</td>\n",
       "      <td>NaN</td>\n",
       "      <td>NaN</td>\n",
       "      <td>NaN</td>\n",
       "      <td>https://uk.linkedin.com/in/captainbeany</td>\n",
       "      <td>False</td>\n",
       "      <td>http://yournextmp.popit.mysociety.org/persons/...</td>\n",
       "      <td>http://yournextmp.popit.mysociety.org/image-pr...</td>\n",
       "      <td>public-domain</td>\n",
       "      <td>CaptainBeany</td>\n",
       "      <td>NaN</td>\n",
       "    </tr>\n",
       "    <tr>\n",
       "      <th>Peter Bush</th>\n",
       "      <td>6754</td>\n",
       "      <td>UK Independence Party (UKIP)</td>\n",
       "      <td>Aberavon</td>\n",
       "      <td>66101</td>\n",
       "      <td>http://mapit.mysociety.org/area/66101</td>\n",
       "      <td>W07000049</td>\n",
       "      <td>NaN</td>\n",
       "      <td>https://www.facebook.com/peterbushukip</td>\n",
       "      <td>NaN</td>\n",
       "      <td>male</td>\n",
       "      <td>...</td>\n",
       "      <td>NaN</td>\n",
       "      <td>NaN</td>\n",
       "      <td>PP85</td>\n",
       "      <td>NaN</td>\n",
       "      <td>False</td>\n",
       "      <td>http://yournextmp.popit.mysociety.org/persons/...</td>\n",
       "      <td>http://yournextmp.popit.mysociety.org/image-pr...</td>\n",
       "      <td>public-domain</td>\n",
       "      <td>peter3</td>\n",
       "      <td>NaN</td>\n",
       "    </tr>\n",
       "  </tbody>\n",
       "</table>\n",
       "<p>2 rows × 27 columns</p>\n",
       "</div>"
      ],
      "text/plain": [
       "                 id                         party constituency  mapit_id  \\\n",
       "name                                                                       \n",
       "Captain Beany    20                   Independent     Aberavon     66101   \n",
       "Peter Bush     6754  UK Independence Party (UKIP)     Aberavon     66101   \n",
       "\n",
       "                                           mapit_url   gss_code  \\\n",
       "name                                                              \n",
       "Captain Beany  http://mapit.mysociety.org/area/66101  W07000049   \n",
       "Peter Bush     http://mapit.mysociety.org/area/66101  W07000049   \n",
       "\n",
       "              twitter_username                          facebook_page_url  \\\n",
       "name                                                                        \n",
       "Captain Beany     captainbeany  https://www.facebook.com/VoteCaptainBeany   \n",
       "Peter Bush                 NaN     https://www.facebook.com/peterbushukip   \n",
       "\n",
       "              party_ppc_page_url gender            ...              \\\n",
       "name                                               ...               \n",
       "Captain Beany                NaN   male            ...               \n",
       "Peter Bush                   NaN   male            ...               \n",
       "\n",
       "              honorific_prefix honorific_suffix party_id  \\\n",
       "name                                                       \n",
       "Captain Beany              NaN              NaN      NaN   \n",
       "Peter Bush                 NaN              NaN     PP85   \n",
       "\n",
       "                                          linkedin_url elected  \\\n",
       "name                                                             \n",
       "Captain Beany  https://uk.linkedin.com/in/captainbeany   False   \n",
       "Peter Bush                                         NaN   False   \n",
       "\n",
       "                                                       image_url  \\\n",
       "name                                                               \n",
       "Captain Beany  http://yournextmp.popit.mysociety.org/persons/...   \n",
       "Peter Bush     http://yournextmp.popit.mysociety.org/persons/...   \n",
       "\n",
       "                                        proxy_image_url_template  \\\n",
       "name                                                               \n",
       "Captain Beany  http://yournextmp.popit.mysociety.org/image-pr...   \n",
       "Peter Bush     http://yournextmp.popit.mysociety.org/image-pr...   \n",
       "\n",
       "              image_copyright image_uploading_user image_uploading_user_notes  \n",
       "name                                                                           \n",
       "Captain Beany   public-domain         CaptainBeany                        NaN  \n",
       "Peter Bush      public-domain               peter3                        NaN  \n",
       "\n",
       "[2 rows x 27 columns]"
      ]
     },
     "execution_count": 3,
     "metadata": {},
     "output_type": "execute_result"
    }
   ],
   "source": [
    "candidate_information = pd.DataFrame.from_csv('https://edit.yournextmp.com/media/candidates.csv')\n",
    "candidate_information[:2]"
   ]
  },
  {
   "cell_type": "code",
   "execution_count": 4,
   "metadata": {
    "collapsed": false
   },
   "outputs": [
    {
     "data": {
      "text/plain": [
       "(650, array(['W07000049', 'W07000058'], dtype=object))"
      ]
     },
     "execution_count": 4,
     "metadata": {},
     "output_type": "execute_result"
    }
   ],
   "source": [
    "constituency_gss_codes = candidate_information.gss_code.unique()\n",
    "len(constituency_gss_codes), constituency_gss_codes[:2]"
   ]
  },
  {
   "cell_type": "markdown",
   "metadata": {},
   "source": [
    "There we can see the first constituency, Aberavon, W0700049. Back to the BBC to get information for each constituency. I'm going to use multiprocessing to do multiple URL requests in parallel, I think the BBC should be able to handle 650 queuries, no sweat."
   ]
  },
  {
   "cell_type": "code",
   "execution_count": 5,
   "metadata": {
    "collapsed": false
   },
   "outputs": [],
   "source": [
    "pool = multiprocessing.Pool(25)\n",
    "all_constituency_raw_data = pool.map(constituency_results, constituency_gss_codes)"
   ]
  },
  {
   "cell_type": "markdown",
   "metadata": {},
   "source": [
    "Clean the data up a bit before we start to use it.\n",
    "*Note: The seat of John Bercow, the Speaker, is considered non-partisan, but is included in the Conservative pool as it was originally won by the conservatives and John Vercow in 1997, so a vote for Bercow in Buckingham will be treated as a Conservative vote, this is the same treatment as the BBC*"
   ]
  },
  {
   "cell_type": "code",
   "execution_count": 6,
   "metadata": {
    "collapsed": false
   },
   "outputs": [],
   "source": [
    "all_constituency_dataframe = pd.concat(all_constituency_raw_data, axis=1)\n",
    "speaker_is_conservative = pd.Index([aliases.get(p, p) for p in all_constituency_dataframe.index])\n",
    "all_constituency_data = all_constituency_dataframe.groupby(speaker_is_conservative).sum()"
   ]
  },
  {
   "cell_type": "markdown",
   "metadata": {},
   "source": [
    "## The result"
   ]
  },
  {
   "cell_type": "markdown",
   "metadata": {},
   "source": [
    "#### First Past the Post"
   ]
  },
  {
   "cell_type": "markdown",
   "metadata": {},
   "source": [
    "The 2015 UK General election was ran using a first past the post voting system (http://en.wikipedia.org/wiki/First-past-the-post_voting), also referred to as *the winner takes it all*. The party with the most votes wins the election in that constituency, let's see how the election turned out."
   ]
  },
  {
   "cell_type": "markdown",
   "metadata": {},
   "source": [
    "Based on the simple first past the post process, we can recreate the real result. This is how the seats are split between each party today."
   ]
  },
  {
   "cell_type": "code",
   "execution_count": 7,
   "metadata": {
    "collapsed": false
   },
   "outputs": [
    {
     "data": {
      "text/plain": [
       "<matplotlib.axes.AxesSubplot at 0x10aedcd50>"
      ]
     },
     "execution_count": 7,
     "metadata": {},
     "output_type": "execute_result"
    },
    {
     "data": {
      "image/png": "[encoded data removed]",
      "text/plain": [
       "<matplotlib.figure.Figure at 0x10af86a50>"
      ]
     },
     "metadata": {},
     "output_type": "display_data"
    }
   ],
   "source": [
    "seats = all_constituency_data.idxmax(axis=0).value_counts()\n",
    "seats.plot(kind='bar', title='Seats won in the 2015 UK General Election', color=colors(seats.index))"
   ]
  },
  {
   "cell_type": "markdown",
   "metadata": {},
   "source": [
    "*Always the bridesmade and never the bride?*\n",
    "The first past the post system does not reward second place, so a party can gain a lot of votes but win very few seats, which is what happened to the Greens and UKIP."
   ]
  },
  {
   "cell_type": "code",
   "execution_count": 8,
   "metadata": {
    "collapsed": false
   },
   "outputs": [
    {
     "data": {
      "text/plain": [
       "<matplotlib.axes.AxesSubplot at 0x10af8bcd0>"
      ]
     },
     "execution_count": 8,
     "metadata": {},
     "output_type": "execute_result"
    },
    {
     "data": {
      "image/png": "[encoded data removed]",
      "text/plain": [
       "<matplotlib.figure.Figure at 0x10af815d0>"
      ]
     },
     "metadata": {},
     "output_type": "display_data"
    }
   ],
   "source": [
    "votes_per_party = all_constituency_data.sum(axis=1)\n",
    "votes = votes_per_party.sort(ascending=False, inplace=False)[:10]\n",
    "votes.plot(kind='bar', title='Votes won in the 2015 UK General Election', color=colors(votes.index))"
   ]
  },
  {
   "cell_type": "markdown",
   "metadata": {},
   "source": [
    "##### The D'hondt System - Propotional Representation"
   ]
  },
  {
   "cell_type": "markdown",
   "metadata": {},
   "source": [
    "The significant difference between the number of votes and the number of seats received by the parties has called into question the first past the post system. The Electoral Reform Society is campaigning for the use of the d'Hondt system, which attempts to proportionally allocate seats in a manner much more closely aligned to the number of votes a party receives accross the country. If used in the 2015 General Election we'd have had this result."
   ]
  },
  {
   "cell_type": "code",
   "execution_count": 9,
   "metadata": {
    "collapsed": false
   },
   "outputs": [
    {
     "data": {
      "text/plain": [
       "<matplotlib.axes.AxesSubplot at 0x10afcec10>"
      ]
     },
     "execution_count": 9,
     "metadata": {},
     "output_type": "execute_result"
    },
    {
     "data": {
      "image/png": "[encoded data removed]",
      "text/plain": [
       "<matplotlib.figure.Figure at 0x10afc35d0>"
      ]
     },
     "metadata": {},
     "output_type": "display_data"
    }
   ],
   "source": [
    "def dhondt(votes, total_seats):\n",
    "    total_votes = votes.copy()\n",
    "    seats = defaultdict(int)\n",
    "    for seat in range(total_seats):\n",
    "        winning_party = votes.index[0]\n",
    "        seats[winning_party] +=1\n",
    "        votes[0]=total_votes[winning_party]/(seats[winning_party]+1)\n",
    "        votes.sort(ascending=False)\n",
    "    return seats\n",
    "dhondt_party_seats = dhondt(votes_per_party.copy(),650)\n",
    "dhondt_seats = pd.Series([seats for party,seats in dhondt_party_seats.items()], index=[party for party,seats in dhondt_party_seats.items()])\n",
    "dhondt_seats.sort(ascending=False)\n",
    "dhondt_seats.plot(kind='bar', title='dHondt seats', color=colors(dhondt_seats.index))"
   ]
  },
  {
   "cell_type": "code",
   "execution_count": 10,
   "metadata": {
    "collapsed": false,
    "scrolled": true
   },
   "outputs": [
    {
     "data": {
      "text/plain": [
       "<matplotlib.axes.AxesSubplot at 0x10d41dcd0>"
      ]
     },
     "execution_count": 10,
     "metadata": {},
     "output_type": "execute_result"
    },
    {
     "data": {
      "image/png": "[encoded data removed]",
      "text/plain": [
       "<matplotlib.figure.Figure at 0x10c7b6a50>"
      ]
     },
     "metadata": {},
     "output_type": "display_data"
    }
   ],
   "source": [
    "fig, axs = plt.subplots(1,3, figsize=(15,4))\n",
    "\n",
    "votes.plot(ax=axs[0], kind='bar', title='Total votes', color=colors(votes.index))\n",
    "seats.plot(ax=axs[1], kind='bar', title='First past post seats', color=colors(seats.index))\n",
    "dhondt_seats.plot(ax=axs[2], kind='bar', title='dHondt seats', color=colors(dhondt_seats.index))"
   ]
  },
  {
   "cell_type": "markdown",
   "metadata": {},
   "source": [
    "##### Power per vote"
   ]
  },
  {
   "cell_type": "markdown",
   "metadata": {},
   "source": [
    "##### Power per vote geographically"
   ]
  }
 ],
 "metadata": {
  "kernelspec": {
   "display_name": "Python 3",
   "language": "python",
   "name": "python3"
  },
  "language_info": {
   "codemirror_mode": {
    "name": "ipython",
    "version": 3
   },
   "file_extension": ".py",
   "mimetype": "text/x-python",
   "name": "python",
   "nbconvert_exporter": "python",
   "pygments_lexer": "ipython3",
   "version": "3.3.2"
  }
 },
 "nbformat": 4,
 "nbformat_minor": 0
}
