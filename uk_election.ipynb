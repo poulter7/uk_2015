{
 "metadata": {
  "name": "",
  "signature": "sha256:0c7e8dd3fcc60ba14b6235c56b50874605be9e6ad11ab279d046d2c22f666d6d"
 },
 "nbformat": 3,
 "nbformat_minor": 0,
 "worksheets": [
  {
   "cells": [
    {
     "cell_type": "code",
     "collapsed": false,
     "input": [
      "import scrapy, requests\n",
      "import pandas as pd\n",
      "from bs4 import BeautifulSoup"
     ],
     "language": "python",
     "metadata": {},
     "outputs": [],
     "prompt_number": 20
    },
    {
     "cell_type": "markdown",
     "metadata": {},
     "source": [
      "First thing's first we're going to need some data to work with. According to the Electoral Commision General Election 2015 website the BBC is the official source for this data... http://www.electoralcommission.org.uk/find-information-by-subject/elections-and-referendums/upcoming-elections-and-referendums/uk-parliamentary-general-election-2015\n",
      "\n",
      "BBC doesn't provide a raw format or API to get at this, so... to BeautifulSoup!"
     ]
    },
    {
     "cell_type": "markdown",
     "metadata": {},
     "source": [
      "The first constituency, alphabetically, is Aberavon. Helpfully, the BBC has made their data accessible by the constituency GSS (Government Statistical Service ID), http://en.wikipedia.org/wiki/ONS_coding_system.\n",
      "Let's scrape the results from the bbc page for the Aberavon result: http://www.bbc.com/news/politics/constituencies/W07000049"
     ]
    },
    {
     "cell_type": "code",
     "collapsed": false,
     "input": [
      "def constituency_results(constituency_id):\n",
      "    r = requests.get(\"http://www.bbc.com/news/politics/constituencies/\"+constituency_id)\n",
      "    data = r.text\n",
      "    soup = BeautifulSoup(data)\n",
      "    name = soup.find('h1', class_='constituency-title__title').text\n",
      "    result = soup.find('div', class_='election2015-results')\n",
      "    parties = result.find_all('div', class_='party')\n",
      "    data =[\n",
      "        (\n",
      "            int(party.find('li', class_='party__result--votes').text.split()[0].replace(',', '')),\n",
      "            party.find('div', class_='party__name--long').text\n",
      "        )\n",
      "        for party in parties\n",
      "    ]\n",
      "    vote_counts, parties = zip(*data)\n",
      "    return pd.Series(vote_counts, index=parties, name=name)\n",
      "\n",
      "constituency_results('W07000049')"
     ],
     "language": "python",
     "metadata": {},
     "outputs": [
      {
       "metadata": {},
       "output_type": "pyout",
       "prompt_number": 57,
       "text": [
        "Labour                    15416\n",
        "UKIP                       4971\n",
        "Conservative               3742\n",
        "Plaid Cymru                3663\n",
        "Liberal Democrat           1397\n",
        "Independent                1137\n",
        "Green Party                 711\n",
        "Socialist Labour Party      352\n",
        "TUSC                        134\n",
        "Name: Aberavon, dtype: int64"
       ]
      }
     ],
     "prompt_number": 57
    },
    {
     "cell_type": "markdown",
     "metadata": {},
     "source": [
      "Now, let's find the results for every constituency... we'll need a list of every constituency."
     ]
    },
    {
     "cell_type": "code",
     "collapsed": false,
     "input": [],
     "language": "python",
     "metadata": {},
     "outputs": []
    }
   ],
   "metadata": {}
  }
 ]
}