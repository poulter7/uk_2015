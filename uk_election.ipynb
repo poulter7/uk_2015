{
 "metadata": {
  "name": "",
  "signature": "sha256:97c17852eaad546176cb6f7e00f7f3aaa14032e2b3ec63af61980d19be284d6d"
 },
 "nbformat": 3,
 "nbformat_minor": 0,
 "worksheets": [
  {
   "cells": [
    {
     "cell_type": "markdown",
     "metadata": {},
     "source": [
      "Let's import some libraries we'll use later on"
     ]
    },
    {
     "cell_type": "code",
     "collapsed": false,
     "input": [
      "import scrapy, requests\n",
      "import pandas as pd\n",
      "from bs4 import BeautifulSoup\n",
      "import multiprocessing"
     ],
     "language": "python",
     "metadata": {},
     "outputs": [],
     "prompt_number": 1
    },
    {
     "cell_type": "heading",
     "level": 4,
     "metadata": {},
     "source": [
      "Single constituency data"
     ]
    },
    {
     "cell_type": "markdown",
     "metadata": {},
     "source": [
      "First thing's first we're going to need some data to work with. According to the Electoral Commision General Election 2015 website the BBC is the official source for this data... http://www.electoralcommission.org.uk/find-information-by-subject/elections-and-referendums/upcoming-elections-and-referendums/uk-parliamentary-general-election-2015\n",
      "\n",
      "BBC doesn't provide a raw format or API to get at this, so... to BeautifulSoup!"
     ]
    },
    {
     "cell_type": "markdown",
     "metadata": {},
     "source": [
      "The first constituency, alphabetically, is Aberavon. Helpfully, the BBC has made their data accessible by the constituency GSS (Government Statistical Service ID), http://en.wikipedia.org/wiki/ONS_coding_system.\n",
      "Let's scrape the results from the bbc page for the Aberavon result: http://www.bbc.com/news/politics/constituencies/W07000049"
     ]
    },
    {
     "cell_type": "code",
     "collapsed": false,
     "input": [
      "def constituency_results(constituency_id):\n",
      "    r = requests.get(\"http://www.bbc.com/news/politics/constituencies/\"+constituency_id)\n",
      "    data = r.text\n",
      "    soup = BeautifulSoup(data)\n",
      "    name = soup.find('h1', class_='constituency-title__title').text\n",
      "    result = soup.find('div', class_='election2015-results')\n",
      "    parties = result.find_all('div', class_='party')\n",
      "    data =[\n",
      "        (\n",
      "            int(party.find('li', class_='party__result--votes').text.split()[0].replace(',', '')),\n",
      "            party.find('div', class_='party__name--long').text\n",
      "        )\n",
      "        for party in parties\n",
      "    ]\n",
      "    vote_counts, parties = zip(*data)\n",
      "    return pd.Series(vote_counts, index=parties, name=constituency_id)\n",
      "\n",
      "constituency_results('W07000049')"
     ],
     "language": "python",
     "metadata": {},
     "outputs": [
      {
       "metadata": {},
       "output_type": "pyout",
       "prompt_number": 2,
       "text": [
        "Labour                    15416\n",
        "UKIP                       4971\n",
        "Conservative               3742\n",
        "Plaid Cymru                3663\n",
        "Liberal Democrat           1397\n",
        "Independent                1137\n",
        "Green Party                 711\n",
        "Socialist Labour Party      352\n",
        "TUSC                        134\n",
        "Name: W07000049, dtype: int64"
       ]
      }
     ],
     "prompt_number": 2
    },
    {
     "cell_type": "heading",
     "level": 4,
     "metadata": {},
     "source": [
      "All constituencies"
     ]
    },
    {
     "cell_type": "markdown",
     "metadata": {},
     "source": [
      "To find all results, we'll need a list of every constituency. We expect 650 in total... we can get all of the information for candidates from https://yournextmp.com"
     ]
    },
    {
     "cell_type": "code",
     "collapsed": false,
     "input": [
      "candidate_information = pd.DataFrame.from_csv('https://edit.yournextmp.com/media/candidates.csv')\n",
      "candidate_information[:2]"
     ],
     "language": "python",
     "metadata": {},
     "outputs": [
      {
       "html": [
        "<div style=\"max-height:1000px;max-width:1500px;overflow:auto;\">\n",
        "<table border=\"1\" class=\"dataframe\">\n",
        "  <thead>\n",
        "    <tr style=\"text-align: right;\">\n",
        "      <th></th>\n",
        "      <th>id</th>\n",
        "      <th>party</th>\n",
        "      <th>constituency</th>\n",
        "      <th>mapit_id</th>\n",
        "      <th>mapit_url</th>\n",
        "      <th>gss_code</th>\n",
        "      <th>twitter_username</th>\n",
        "      <th>facebook_page_url</th>\n",
        "      <th>party_ppc_page_url</th>\n",
        "      <th>gender</th>\n",
        "      <th>...</th>\n",
        "      <th>honorific_prefix</th>\n",
        "      <th>honorific_suffix</th>\n",
        "      <th>party_id</th>\n",
        "      <th>linkedin_url</th>\n",
        "      <th>elected</th>\n",
        "      <th>image_url</th>\n",
        "      <th>proxy_image_url_template</th>\n",
        "      <th>image_copyright</th>\n",
        "      <th>image_uploading_user</th>\n",
        "      <th>image_uploading_user_notes</th>\n",
        "    </tr>\n",
        "    <tr>\n",
        "      <th>name</th>\n",
        "      <th></th>\n",
        "      <th></th>\n",
        "      <th></th>\n",
        "      <th></th>\n",
        "      <th></th>\n",
        "      <th></th>\n",
        "      <th></th>\n",
        "      <th></th>\n",
        "      <th></th>\n",
        "      <th></th>\n",
        "      <th></th>\n",
        "      <th></th>\n",
        "      <th></th>\n",
        "      <th></th>\n",
        "      <th></th>\n",
        "      <th></th>\n",
        "      <th></th>\n",
        "      <th></th>\n",
        "      <th></th>\n",
        "      <th></th>\n",
        "      <th></th>\n",
        "    </tr>\n",
        "  </thead>\n",
        "  <tbody>\n",
        "    <tr>\n",
        "      <th>Captain Beany</th>\n",
        "      <td>20</td>\n",
        "      <td>Independent</td>\n",
        "      <td>Aberavon</td>\n",
        "      <td>66101</td>\n",
        "      <td>http://mapit.mysociety.org/area/66101</td>\n",
        "      <td>W07000049</td>\n",
        "      <td>captainbeany</td>\n",
        "      <td>https://www.facebook.com/VoteCaptainBeany</td>\n",
        "      <td>NaN</td>\n",
        "      <td>male</td>\n",
        "      <td>...</td>\n",
        "      <td>NaN</td>\n",
        "      <td>NaN</td>\n",
        "      <td>NaN</td>\n",
        "      <td>https://uk.linkedin.com/in/captainbeany</td>\n",
        "      <td>False</td>\n",
        "      <td>http://yournextmp.popit.mysociety.org/persons/...</td>\n",
        "      <td>http://yournextmp.popit.mysociety.org/image-pr...</td>\n",
        "      <td>public-domain</td>\n",
        "      <td>CaptainBeany</td>\n",
        "      <td>NaN</td>\n",
        "    </tr>\n",
        "    <tr>\n",
        "      <th>Peter Bush</th>\n",
        "      <td>6754</td>\n",
        "      <td>UK Independence Party (UKIP)</td>\n",
        "      <td>Aberavon</td>\n",
        "      <td>66101</td>\n",
        "      <td>http://mapit.mysociety.org/area/66101</td>\n",
        "      <td>W07000049</td>\n",
        "      <td>NaN</td>\n",
        "      <td>https://www.facebook.com/peterbushukip</td>\n",
        "      <td>NaN</td>\n",
        "      <td>male</td>\n",
        "      <td>...</td>\n",
        "      <td>NaN</td>\n",
        "      <td>NaN</td>\n",
        "      <td>PP85</td>\n",
        "      <td>NaN</td>\n",
        "      <td>False</td>\n",
        "      <td>http://yournextmp.popit.mysociety.org/persons/...</td>\n",
        "      <td>http://yournextmp.popit.mysociety.org/image-pr...</td>\n",
        "      <td>public-domain</td>\n",
        "      <td>peter3</td>\n",
        "      <td>NaN</td>\n",
        "    </tr>\n",
        "  </tbody>\n",
        "</table>\n",
        "<p>2 rows \u00d7 27 columns</p>\n",
        "</div>"
       ],
       "metadata": {},
       "output_type": "pyout",
       "prompt_number": 3,
       "text": [
        "                 id                         party constituency  mapit_id  \\\n",
        "name                                                                       \n",
        "Captain Beany    20                   Independent     Aberavon     66101   \n",
        "Peter Bush     6754  UK Independence Party (UKIP)     Aberavon     66101   \n",
        "\n",
        "                                           mapit_url   gss_code  \\\n",
        "name                                                              \n",
        "Captain Beany  http://mapit.mysociety.org/area/66101  W07000049   \n",
        "Peter Bush     http://mapit.mysociety.org/area/66101  W07000049   \n",
        "\n",
        "              twitter_username                          facebook_page_url  \\\n",
        "name                                                                        \n",
        "Captain Beany     captainbeany  https://www.facebook.com/VoteCaptainBeany   \n",
        "Peter Bush                 NaN     https://www.facebook.com/peterbushukip   \n",
        "\n",
        "              party_ppc_page_url gender            ...              \\\n",
        "name                                               ...               \n",
        "Captain Beany                NaN   male            ...               \n",
        "Peter Bush                   NaN   male            ...               \n",
        "\n",
        "              honorific_prefix honorific_suffix party_id  \\\n",
        "name                                                       \n",
        "Captain Beany              NaN              NaN      NaN   \n",
        "Peter Bush                 NaN              NaN     PP85   \n",
        "\n",
        "                                          linkedin_url elected  \\\n",
        "name                                                             \n",
        "Captain Beany  https://uk.linkedin.com/in/captainbeany   False   \n",
        "Peter Bush                                         NaN   False   \n",
        "\n",
        "                                                       image_url  \\\n",
        "name                                                               \n",
        "Captain Beany  http://yournextmp.popit.mysociety.org/persons/...   \n",
        "Peter Bush     http://yournextmp.popit.mysociety.org/persons/...   \n",
        "\n",
        "                                        proxy_image_url_template  \\\n",
        "name                                                               \n",
        "Captain Beany  http://yournextmp.popit.mysociety.org/image-pr...   \n",
        "Peter Bush     http://yournextmp.popit.mysociety.org/image-pr...   \n",
        "\n",
        "              image_copyright image_uploading_user image_uploading_user_notes  \n",
        "name                                                                           \n",
        "Captain Beany   public-domain         CaptainBeany                        NaN  \n",
        "Peter Bush      public-domain               peter3                        NaN  \n",
        "\n",
        "[2 rows x 27 columns]"
       ]
      }
     ],
     "prompt_number": 3
    },
    {
     "cell_type": "code",
     "collapsed": false,
     "input": [
      "constituency_gss_codes = candidate_information.gss_code.unique()\n",
      "len(constituency_gss_codes), constituency_gss_codes[:2]"
     ],
     "language": "python",
     "metadata": {},
     "outputs": [
      {
       "metadata": {},
       "output_type": "pyout",
       "prompt_number": 4,
       "text": [
        "(650, array(['W07000049', 'W07000058'], dtype=object))"
       ]
      }
     ],
     "prompt_number": 4
    },
    {
     "cell_type": "markdown",
     "metadata": {},
     "source": [
      "And there we can see the first constituency, Aberavon, W0700049. Back to the BBC to get information for each constituency. I'm going to use multiprocessing to do multiple requests in parallel, I think the BBC should be able to handle this."
     ]
    },
    {
     "cell_type": "code",
     "collapsed": false,
     "input": [
      "pool = multiprocessing.Pool(25)\n",
      "all_constituency_raw_data = pool.map(constituency_results, constituency_gss_codes)"
     ],
     "language": "python",
     "metadata": {},
     "outputs": [],
     "prompt_number": 5
    },
    {
     "cell_type": "markdown",
     "metadata": {},
     "source": [
      "Clean the data up a bit before we start to use it. Combine entries which have multiple independent candidates, such as Blackpool South: http://www.bbc.com/news/politics/constituencies/E14000573."
     ]
    },
    {
     "cell_type": "code",
     "collapsed": false,
     "input": [
      "all_constituency_raw_data = map(lambda df:df.groupby(df.index).sum(), all_constituency_raw_data)\n",
      "all_constituency_dataframe = pd.concat(all_constituency_raw_data, axis=1)"
     ],
     "language": "python",
     "metadata": {},
     "outputs": [],
     "prompt_number": 6
    },
    {
     "cell_type": "code",
     "collapsed": false,
     "input": [],
     "language": "python",
     "metadata": {},
     "outputs": []
    },
    {
     "cell_type": "heading",
     "level": 3,
     "metadata": {},
     "source": [
      "The result"
     ]
    },
    {
     "cell_type": "heading",
     "level": 4,
     "metadata": {},
     "source": [
      "First past the post"
     ]
    },
    {
     "cell_type": "markdown",
     "metadata": {},
     "source": [
      "The 2015 UK General election was ran using a first past the post voting system (http://en.wikipedia.org/wiki/First-past-the-post_voting), also referred to as *the winner takes it all*. The party with the most votes wins the election in that constituency, let's see how the election turned out."
     ]
    },
    {
     "cell_type": "code",
     "collapsed": false,
     "input": [],
     "language": "python",
     "metadata": {},
     "outputs": []
    },
    {
     "cell_type": "heading",
     "level": 5,
     "metadata": {},
     "source": [
      "Power per vote"
     ]
    },
    {
     "cell_type": "code",
     "collapsed": false,
     "input": [],
     "language": "python",
     "metadata": {},
     "outputs": []
    }
   ],
   "metadata": {}
  }
 ]
}