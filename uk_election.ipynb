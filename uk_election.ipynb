{
 "metadata": {
  "name": "",
  "signature": "sha256:4ef7dc0ad132fbf8fd184cc5b3796d74f1c3bbdf897df6ef03cdfd29ef7cc60d"
 },
 "nbformat": 3,
 "nbformat_minor": 0,
 "worksheets": [
  {
   "cells": [
    {
     "cell_type": "markdown",
     "metadata": {},
     "source": [
      "Let's import some libraries we'll use later on"
     ]
    },
    {
     "cell_type": "code",
     "collapsed": false,
     "input": [
      "import scrapy, requests\n",
      "import pandas as pd\n",
      "from bs4 import BeautifulSoup\n",
      "import multiprocessing\n",
      "import matplotlib\n",
      "import numpy as np\n",
      "import matplotlib.pyplot as plt\n",
      "%matplotlib inline  \n",
      "pd.options.display.mpl_style = 'default'\n",
      "\n",
      "def colors(index):\n",
      "    \"\"\"Define party colours\"\"\"\n",
      "    from collections import defaultdict\n",
      "    cm = defaultdict(lambda: 'w', {'Cons': '#0575c9', 'Labour': '#ed1e0e', 'UKIP': '#712f87',\n",
      "         'SNP': '#ebc31c', 'Lib Dem': '#fe8300',\n",
      "         'Green': '#78c31e', 'DUP': '#c0153d','Plaid Cymru': '#4e9f2f',\n",
      "         'Sinn Fein': '#00623f', 'UUP': '#6ab1e6',\n",
      "         'SDLP': '#65a966',\n",
      "    })\n",
      "    return [cm[party] for party in index]\n",
      "\n",
      "aliases = { 'Conservative': 'Cons', 'Scottish National Party': 'SNP', 'Green Party': 'Green', \n",
      "    'Democratic Unionist Party': 'DUP', 'Ulster Unionist Party': 'UUP', \n",
      "    'Liberal Democrat': 'Lib Dem', 'Social Democratic & Labour Party': 'SDLP', 'Speaker': 'Cons',\n",
      "    'Independent Sylvia Hermon': 'IND',\n",
      "}"
     ],
     "language": "python",
     "metadata": {},
     "outputs": [],
     "prompt_number": 58
    },
    {
     "cell_type": "heading",
     "level": 2,
     "metadata": {},
     "source": [
      "The Data"
     ]
    },
    {
     "cell_type": "heading",
     "level": 4,
     "metadata": {},
     "source": [
      "Gathering Election Data"
     ]
    },
    {
     "cell_type": "markdown",
     "metadata": {},
     "source": [
      "First thing's first we're going to need some data to work with. According to the Electoral Commision General Election 2015 website the BBC is the official source for this data. \n",
      "\n",
      "http://www.electoralcommission.org.uk/find-information-by-subject/elections-and-referendums/upcoming-elections-and-referendums/uk-parliamentary-general-election-2015\n",
      "\n",
      "The BBC doesn't provide a raw format or API to get at this, so we'll use BeautifulSoup!"
     ]
    },
    {
     "cell_type": "markdown",
     "metadata": {},
     "source": [
      "The first constituency, alphabetically, is Aberavon. The BBC has made their data accessible by the constituency GSS (Government Statistical Service ID), http://en.wikipedia.org/wiki/ONS_coding_system. The results from the bbc page for the Aberavon result can be found at: http://www.bbc.com/news/politics/constituencies/W07000049. \n",
      "\n",
      "*A note here is to be sure to  distinguish results from multiple independent candidates, as they do not stand for the same party. An example constituency is Blackpool South: http://www.bbc.com/news/politics/constituencies/E14000573.*"
     ]
    },
    {
     "cell_type": "code",
     "collapsed": false,
     "input": [
      "def constituency_results(constituency_id):\n",
      "    r = requests.get(\"http://www.bbc.com/news/politics/constituencies/\"+constituency_id)\n",
      "    data = r.text\n",
      "    soup = BeautifulSoup(data)\n",
      "    name = soup.find('h1', class_='constituency-title__title').text\n",
      "    result = soup.find('div', class_='election2015-results')\n",
      "    parties = result.find_all('div', class_='party')\n",
      "    data = []\n",
      "    for party in parties:\n",
      "        vote_text = party.find('li', class_='party__result--votes').text\n",
      "        vote_count = int(vote_text.split()[0].replace(',', ''))\n",
      "        party_name = party.find('div', class_='party__name--long').text\n",
      "        if party_name == 'Independent':\n",
      "            candidate_text = party.find('div', class_='party__result--candidate').text\n",
      "            party_name += ' ' + candidate_text.replace(', with candidate ', '')\n",
      "        data.append((vote_count, party_name))\n",
      "    vote_counts, parties = zip(*data)\n",
      "    return pd.Series(vote_counts, index=parties, name=constituency_id)\n",
      "\n",
      "constituency_results('W07000049')"
     ],
     "language": "python",
     "metadata": {},
     "outputs": [
      {
       "metadata": {},
       "output_type": "pyout",
       "prompt_number": 3,
       "text": [
        "Labour                       15416\n",
        "UKIP                          4971\n",
        "Conservative                  3742\n",
        "Plaid Cymru                   3663\n",
        "Liberal Democrat              1397\n",
        "Independent Captain Beany     1137\n",
        "Green Party                    711\n",
        "Socialist Labour Party         352\n",
        "TUSC                           134\n",
        "Name: W07000049, dtype: int64"
       ]
      }
     ],
     "prompt_number": 3
    },
    {
     "cell_type": "heading",
     "level": 4,
     "metadata": {},
     "source": [
      "Gathering Data for All Constituencies"
     ]
    },
    {
     "cell_type": "markdown",
     "metadata": {},
     "source": [
      "To find all results, we'll need a list of every constituency. We expect 650 in total, the easiest way I found to get this was to get information for each candidate from https://yournextmp.com and take the set of unique gss_codes. This will prove useful later, when we start to do some mapping."
     ]
    },
    {
     "cell_type": "code",
     "collapsed": false,
     "input": [
      "candidate_information = pd.DataFrame.from_csv('https://edit.yournextmp.com/media/candidates.csv')\n",
      "candidate_information[:2]"
     ],
     "language": "python",
     "metadata": {},
     "outputs": [
      {
       "html": [
        "<div style=\"max-height:1000px;max-width:1500px;overflow:auto;\">\n",
        "<table border=\"1\" class=\"dataframe\">\n",
        "  <thead>\n",
        "    <tr style=\"text-align: right;\">\n",
        "      <th></th>\n",
        "      <th>id</th>\n",
        "      <th>party</th>\n",
        "      <th>constituency</th>\n",
        "      <th>mapit_id</th>\n",
        "      <th>mapit_url</th>\n",
        "      <th>gss_code</th>\n",
        "      <th>twitter_username</th>\n",
        "      <th>facebook_page_url</th>\n",
        "      <th>party_ppc_page_url</th>\n",
        "      <th>gender</th>\n",
        "      <th>...</th>\n",
        "      <th>honorific_prefix</th>\n",
        "      <th>honorific_suffix</th>\n",
        "      <th>party_id</th>\n",
        "      <th>linkedin_url</th>\n",
        "      <th>elected</th>\n",
        "      <th>image_url</th>\n",
        "      <th>proxy_image_url_template</th>\n",
        "      <th>image_copyright</th>\n",
        "      <th>image_uploading_user</th>\n",
        "      <th>image_uploading_user_notes</th>\n",
        "    </tr>\n",
        "    <tr>\n",
        "      <th>name</th>\n",
        "      <th></th>\n",
        "      <th></th>\n",
        "      <th></th>\n",
        "      <th></th>\n",
        "      <th></th>\n",
        "      <th></th>\n",
        "      <th></th>\n",
        "      <th></th>\n",
        "      <th></th>\n",
        "      <th></th>\n",
        "      <th></th>\n",
        "      <th></th>\n",
        "      <th></th>\n",
        "      <th></th>\n",
        "      <th></th>\n",
        "      <th></th>\n",
        "      <th></th>\n",
        "      <th></th>\n",
        "      <th></th>\n",
        "      <th></th>\n",
        "      <th></th>\n",
        "    </tr>\n",
        "  </thead>\n",
        "  <tbody>\n",
        "    <tr>\n",
        "      <th>Captain Beany</th>\n",
        "      <td>20</td>\n",
        "      <td>Independent</td>\n",
        "      <td>Aberavon</td>\n",
        "      <td>66101</td>\n",
        "      <td>http://mapit.mysociety.org/area/66101</td>\n",
        "      <td>W07000049</td>\n",
        "      <td>captainbeany</td>\n",
        "      <td>https://www.facebook.com/VoteCaptainBeany</td>\n",
        "      <td>NaN</td>\n",
        "      <td>male</td>\n",
        "      <td>...</td>\n",
        "      <td>NaN</td>\n",
        "      <td>NaN</td>\n",
        "      <td>NaN</td>\n",
        "      <td>https://uk.linkedin.com/in/captainbeany</td>\n",
        "      <td>False</td>\n",
        "      <td>http://yournextmp.popit.mysociety.org/persons/...</td>\n",
        "      <td>http://yournextmp.popit.mysociety.org/image-pr...</td>\n",
        "      <td>public-domain</td>\n",
        "      <td>CaptainBeany</td>\n",
        "      <td>NaN</td>\n",
        "    </tr>\n",
        "    <tr>\n",
        "      <th>Peter Bush</th>\n",
        "      <td>6754</td>\n",
        "      <td>UK Independence Party (UKIP)</td>\n",
        "      <td>Aberavon</td>\n",
        "      <td>66101</td>\n",
        "      <td>http://mapit.mysociety.org/area/66101</td>\n",
        "      <td>W07000049</td>\n",
        "      <td>NaN</td>\n",
        "      <td>https://www.facebook.com/peterbushukip</td>\n",
        "      <td>NaN</td>\n",
        "      <td>male</td>\n",
        "      <td>...</td>\n",
        "      <td>NaN</td>\n",
        "      <td>NaN</td>\n",
        "      <td>PP85</td>\n",
        "      <td>NaN</td>\n",
        "      <td>False</td>\n",
        "      <td>http://yournextmp.popit.mysociety.org/persons/...</td>\n",
        "      <td>http://yournextmp.popit.mysociety.org/image-pr...</td>\n",
        "      <td>public-domain</td>\n",
        "      <td>peter3</td>\n",
        "      <td>NaN</td>\n",
        "    </tr>\n",
        "  </tbody>\n",
        "</table>\n",
        "<p>2 rows \u00d7 27 columns</p>\n",
        "</div>"
       ],
       "metadata": {},
       "output_type": "pyout",
       "prompt_number": 4,
       "text": [
        "                 id                         party constituency  mapit_id  \\\n",
        "name                                                                       \n",
        "Captain Beany    20                   Independent     Aberavon     66101   \n",
        "Peter Bush     6754  UK Independence Party (UKIP)     Aberavon     66101   \n",
        "\n",
        "                                           mapit_url   gss_code  \\\n",
        "name                                                              \n",
        "Captain Beany  http://mapit.mysociety.org/area/66101  W07000049   \n",
        "Peter Bush     http://mapit.mysociety.org/area/66101  W07000049   \n",
        "\n",
        "              twitter_username                          facebook_page_url  \\\n",
        "name                                                                        \n",
        "Captain Beany     captainbeany  https://www.facebook.com/VoteCaptainBeany   \n",
        "Peter Bush                 NaN     https://www.facebook.com/peterbushukip   \n",
        "\n",
        "              party_ppc_page_url gender            ...              \\\n",
        "name                                               ...               \n",
        "Captain Beany                NaN   male            ...               \n",
        "Peter Bush                   NaN   male            ...               \n",
        "\n",
        "              honorific_prefix honorific_suffix party_id  \\\n",
        "name                                                       \n",
        "Captain Beany              NaN              NaN      NaN   \n",
        "Peter Bush                 NaN              NaN     PP85   \n",
        "\n",
        "                                          linkedin_url elected  \\\n",
        "name                                                             \n",
        "Captain Beany  https://uk.linkedin.com/in/captainbeany   False   \n",
        "Peter Bush                                         NaN   False   \n",
        "\n",
        "                                                       image_url  \\\n",
        "name                                                               \n",
        "Captain Beany  http://yournextmp.popit.mysociety.org/persons/...   \n",
        "Peter Bush     http://yournextmp.popit.mysociety.org/persons/...   \n",
        "\n",
        "                                        proxy_image_url_template  \\\n",
        "name                                                               \n",
        "Captain Beany  http://yournextmp.popit.mysociety.org/image-pr...   \n",
        "Peter Bush     http://yournextmp.popit.mysociety.org/image-pr...   \n",
        "\n",
        "              image_copyright image_uploading_user image_uploading_user_notes  \n",
        "name                                                                           \n",
        "Captain Beany   public-domain         CaptainBeany                        NaN  \n",
        "Peter Bush      public-domain               peter3                        NaN  \n",
        "\n",
        "[2 rows x 27 columns]"
       ]
      }
     ],
     "prompt_number": 4
    },
    {
     "cell_type": "code",
     "collapsed": false,
     "input": [
      "constituency_gss_codes = candidate_information.gss_code.unique()\n",
      "len(constituency_gss_codes), constituency_gss_codes[:2]"
     ],
     "language": "python",
     "metadata": {},
     "outputs": [
      {
       "metadata": {},
       "output_type": "pyout",
       "prompt_number": 5,
       "text": [
        "(650, array(['W07000049', 'W07000058'], dtype=object))"
       ]
      }
     ],
     "prompt_number": 5
    },
    {
     "cell_type": "markdown",
     "metadata": {},
     "source": [
      "There we can see the first constituency, Aberavon, W0700049. Back to the BBC to get information for each constituency. I'm going to use multiprocessing to do multiple URL requests in parallel, I think the BBC should be able to handle 650 queuries, no sweat."
     ]
    },
    {
     "cell_type": "code",
     "collapsed": false,
     "input": [
      "pool = multiprocessing.Pool(25)\n",
      "all_constituency_raw_data = pool.map(constituency_results, constituency_gss_codes)"
     ],
     "language": "python",
     "metadata": {},
     "outputs": [],
     "prompt_number": 6
    },
    {
     "cell_type": "markdown",
     "metadata": {},
     "source": [
      "Clean the data up a bit before we start to use it.\n",
      "*Note: The seat of John Bercow, the Speaker, is considered non-partisan, but is included in the Conservative pool as it was originally won by the conservatives and John Vercow in 1997, so a vote for Bercow in Buckingham will be treated as a Conservative vote, this is the same treatment as the BBC*"
     ]
    },
    {
     "cell_type": "code",
     "collapsed": false,
     "input": [
      "all_constituency_dataframe = pd.concat(all_constituency_raw_data, axis=1)\n",
      "speaker_is_conservative = pd.Index([aliases.get(p, p) for p in all_constituency_dataframe.index])\n",
      "all_constituency_data = all_constituency_dataframe.groupby(speaker_is_conservative).sum()"
     ],
     "language": "python",
     "metadata": {},
     "outputs": [],
     "prompt_number": 42
    },
    {
     "cell_type": "heading",
     "level": 2,
     "metadata": {},
     "source": [
      "The result"
     ]
    },
    {
     "cell_type": "heading",
     "level": 4,
     "metadata": {},
     "source": [
      "First Past the Post"
     ]
    },
    {
     "cell_type": "markdown",
     "metadata": {},
     "source": [
      "The 2015 UK General election was ran using a first past the post voting system (http://en.wikipedia.org/wiki/First-past-the-post_voting), also referred to as *the winner takes it all*. The party with the most votes wins the election in that constituency, let's see how the election turned out."
     ]
    },
    {
     "cell_type": "markdown",
     "metadata": {},
     "source": [
      "Based on the simple first past the post process, we can recreate the real result. This is how the seats are split between each party today."
     ]
    },
    {
     "cell_type": "code",
     "collapsed": false,
     "input": [
      "seats = all_constituency_data.idxmax(axis=0).value_counts()\n",
      "seats.plot(kind='bar', title='Seats won in the 2015 UK General Election', color=colors(seats.index))"
     ],
     "language": "python",
     "metadata": {},
     "outputs": [
      {
       "metadata": {},
       "output_type": "pyout",
       "prompt_number": 59,
       "text": [
        "<matplotlib.axes._subplots.AxesSubplot at 0x11251ff90>"
       ]
      },
      {
       "metadata": {},
       "output_type": "display_data",
       "png": "[encoded data removed]",
       "text": [
        "<matplotlib.figure.Figure at 0x1123fac10>"
       ]
      }
     ],
     "prompt_number": 59
    },
    {
     "cell_type": "markdown",
     "metadata": {},
     "source": [
      "*Always the bridesmade and never the bride?*\n",
      "The first past the post system does not reward second place, so a party can gain a lot of votes but win very few seats, which is what happened to the Greens and UKIP."
     ]
    },
    {
     "cell_type": "code",
     "collapsed": false,
     "input": [
      "votes_per_party = all_constituency_data.sum(axis=1)\n",
      "votes = votes_per_party.sort(ascending=False, inplace=False)[:10]\n",
      "votes.plot(kind='bar', title='Votes won in the 2015 UK General Election', color=colors(votes.index))"
     ],
     "language": "python",
     "metadata": {},
     "outputs": [
      {
       "metadata": {},
       "output_type": "pyout",
       "prompt_number": 60,
       "text": [
        "<matplotlib.axes._subplots.AxesSubplot at 0x1114bd450>"
       ]
      },
      {
       "metadata": {},
       "output_type": "display_data",
       "png": "[encoded data removed]",
       "text": [
        "<matplotlib.figure.Figure at 0x11271d790>"
       ]
      }
     ],
     "prompt_number": 60
    },
    {
     "cell_type": "heading",
     "level": 5,
     "metadata": {},
     "source": [
      "The D'hondt system - Propotional Representation"
     ]
    },
    {
     "cell_type": "markdown",
     "metadata": {},
     "source": [
      "The significant differences between the number of votes and the number of seats received by the parties has called into question the first past the post system. The Electoral Reform Society is campaigning for the use of the d'Hondt system, which attempts to proportionally allocate seats in a manner much more closely aligned to the number of votes a party receives accross the country. If used in the 2015 General Election we'd have had this result."
     ]
    },
    {
     "cell_type": "code",
     "collapsed": false,
     "input": [
      "fig, axs = plt.subplots(1,3, figsize=(15,4))\n",
      "\n",
      "votes.plot(ax=axs[0], kind='bar', title='Total votes', color=colors(votes.index))\n",
      "seats.plot(ax=axs[1], kind='bar', title='First part post seats', color=colors(seats.index))\n",
      "#TODO d'Hondt system seats"
     ],
     "language": "python",
     "metadata": {},
     "outputs": [
      {
       "metadata": {},
       "output_type": "pyout",
       "prompt_number": 61,
       "text": [
        "<matplotlib.axes._subplots.AxesSubplot at 0x112824910>"
       ]
      },
      {
       "metadata": {},
       "output_type": "display_data",
       "png": "[encoded data removed]",
       "text": [
        "<matplotlib.figure.Figure at 0x112771c90>"
       ]
      }
     ],
     "prompt_number": 61
    },
    {
     "cell_type": "heading",
     "level": 5,
     "metadata": {},
     "source": [
      "Power per vote"
     ]
    },
    {
     "cell_type": "heading",
     "level": 5,
     "metadata": {},
     "source": [
      "Power per vote geographically"
     ]
    }
   ],
   "metadata": {}
  }
 ]
}