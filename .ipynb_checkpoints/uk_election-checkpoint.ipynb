{
 "metadata": {
  "name": "",
  "signature": "sha256:4f247a31de6fbc8cea25ef5ca68c7d78fb59d66c0c8c01f0f24d689aa28331a9"
 },
 "nbformat": 3,
 "nbformat_minor": 0,
 "worksheets": []
}