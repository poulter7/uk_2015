{
 "metadata": {
  "name": "",
  "signature": "sha256:18fbd4e3b148e5c2ac6fe1e0ac09c5bb04b12b767d1757d791d2e506e6f5470c"
 },
 "nbformat": 3,
 "nbformat_minor": 0,
 "worksheets": [
  {
   "cells": [
    {
     "cell_type": "markdown",
     "metadata": {},
     "source": [
      "Let's import some libraries we'll use later on"
     ]
    },
    {
     "cell_type": "code",
     "collapsed": false,
     "input": [
      "import requests\n",
      "from matplotlib.collections import PatchCollection\n",
      "import pandas as pd\n",
      "from bs4 import BeautifulSoup\n",
      "from mpl_toolkits.basemap import Basemap # will need geos to run MACOS brew install geos\n",
      "from collections import defaultdict\n",
      "import multiprocessing\n",
      "import matplotlib\n",
      "import numpy as np\n",
      "import matplotlib.pyplot as plt\n",
      "from shapely.geometry import MultiPolygon\n",
      "from descartes import PolygonPatch\n",
      "from shapely.geometry.polygon import LinearRing\n",
      "from shapely.geometry import LineString\n",
      "import shapely\n",
      "%matplotlib inline  \n",
      "pd.options.display.mpl_style = 'default'\n",
      "\n",
      "def colors(index):\n",
      "    \"\"\"Define party colours\"\"\"\n",
      "    from collections import defaultdict\n",
      "    cm = defaultdict(lambda: 'w', {'Cons': '#0575c9', 'Labour': '#ed1e0e', 'UKIP': '#712f87',\n",
      "         'SNP': '#ebc31c', 'Lib Dem': '#fe8300',\n",
      "         'Green': '#78c31e', 'DUP': '#c0153d','Plaid Cymru': '#4e9f2f',\n",
      "         'Sinn Fein': '#00623f', 'UUP': '#6ab1e6',\n",
      "         'SDLP': '#65a966',\n",
      "    })\n",
      "    return [cm[party] for party in index]\n",
      "\n",
      "aliases = { 'Conservative': 'Cons', 'Scottish National Party': 'SNP', 'Green Party': 'Green', \n",
      "    'Democratic Unionist Party': 'DUP', 'Ulster Unionist Party': 'UUP', \n",
      "    'Liberal Democrat': 'Lib Dem', 'Social Democratic & Labour Party': 'SDLP', 'Speaker': 'Cons',\n",
      "    'Independent Sylvia Hermon': 'IND',\n",
      "}"
     ],
     "language": "python",
     "metadata": {},
     "outputs": [],
     "prompt_number": 106
    },
    {
     "cell_type": "heading",
     "level": 2,
     "metadata": {},
     "source": [
      "The Data"
     ]
    },
    {
     "cell_type": "heading",
     "level": 4,
     "metadata": {},
     "source": [
      "Gathering Election Data"
     ]
    },
    {
     "cell_type": "markdown",
     "metadata": {},
     "source": [
      "First thing's first we're going to need some data to work with. According to the Electoral Commision General Election 2015 website the BBC is the official source for this data. \n",
      "\n",
      "http://www.electoralcommission.org.uk/find-information-by-subject/elections-and-referendums/upcoming-elections-and-referendums/uk-parliamentary-general-election-2015\n",
      "\n",
      "The BBC doesn't provide a raw format or API to get at this, so we'll use BeautifulSoup!"
     ]
    },
    {
     "cell_type": "markdown",
     "metadata": {},
     "source": [
      "The first constituency, alphabetically, is Aberavon. The BBC has made their data accessible by the constituency GSS (Government Statistical Service ID), http://en.wikipedia.org/wiki/ONS_coding_system. The results from the bbc page for the Aberavon result can be found at: http://www.bbc.com/news/politics/constituencies/W07000049. \n",
      "\n",
      "*A note here is to be sure to  distinguish results from multiple independent candidates, as they do not stand for the same party. An example constituency is Blackpool South: http://www.bbc.com/news/politics/constituencies/E14000573.*"
     ]
    },
    {
     "cell_type": "code",
     "collapsed": false,
     "input": [
      "def constituency_results(constituency_id):\n",
      "    r = requests.get(\"http://www.bbc.com/news/politics/constituencies/\"+constituency_id)\n",
      "    data = r.text\n",
      "    soup = BeautifulSoup(data)\n",
      "    name = soup.find('h1', class_='constituency-title__title').text\n",
      "    result = soup.find('div', class_='election2015-results')\n",
      "    parties = result.find_all('div', class_='party')\n",
      "    data = []\n",
      "    for party in parties:\n",
      "        vote_text = party.find('li', class_='party__result--votes').text\n",
      "        vote_count = int(vote_text.split()[0].replace(',', ''))\n",
      "        party_name = party.find('div', class_='party__name--long').text\n",
      "        if party_name == 'Independent':\n",
      "            candidate_text = party.find('div', class_='party__result--candidate').text\n",
      "            party_name += ' ' + candidate_text.replace(', with candidate ', '')\n",
      "        data.append((vote_count, party_name))\n",
      "    vote_counts, parties = zip(*data)\n",
      "    return pd.Series(vote_counts, index=parties, name=constituency_id)\n",
      "\n",
      "constituency_results('W07000049')"
     ],
     "language": "python",
     "metadata": {},
     "outputs": [
      {
       "metadata": {},
       "output_type": "pyout",
       "prompt_number": 3,
       "text": [
        "Labour                       15416\n",
        "UKIP                          4971\n",
        "Conservative                  3742\n",
        "Plaid Cymru                   3663\n",
        "Liberal Democrat              1397\n",
        "Independent Captain Beany     1137\n",
        "Green Party                    711\n",
        "Socialist Labour Party         352\n",
        "TUSC                           134\n",
        "Name: W07000049, dtype: int64"
       ]
      }
     ],
     "prompt_number": 3
    },
    {
     "cell_type": "heading",
     "level": 4,
     "metadata": {},
     "source": [
      "Gathering Data for All Constituencies"
     ]
    },
    {
     "cell_type": "markdown",
     "metadata": {},
     "source": [
      "To find all results, we'll need a list of every constituency. We expect 650 in total, the easiest way I found to get this was to get information for each candidate from https://yournextmp.com and take the set of unique gss_codes. This will prove useful later, when we start to do some mapping."
     ]
    },
    {
     "cell_type": "code",
     "collapsed": false,
     "input": [
      "candidate_information = pd.DataFrame.from_csv('https://edit.yournextmp.com/media/candidates.csv')\n",
      "candidate_information[:2]"
     ],
     "language": "python",
     "metadata": {},
     "outputs": [
      {
       "html": [
        "<div style=\"max-height:1000px;max-width:1500px;overflow:auto;\">\n",
        "<table border=\"1\" class=\"dataframe\">\n",
        "  <thead>\n",
        "    <tr style=\"text-align: right;\">\n",
        "      <th></th>\n",
        "      <th>id</th>\n",
        "      <th>party</th>\n",
        "      <th>constituency</th>\n",
        "      <th>mapit_id</th>\n",
        "      <th>mapit_url</th>\n",
        "      <th>gss_code</th>\n",
        "      <th>twitter_username</th>\n",
        "      <th>facebook_page_url</th>\n",
        "      <th>party_ppc_page_url</th>\n",
        "      <th>gender</th>\n",
        "      <th>...</th>\n",
        "      <th>honorific_prefix</th>\n",
        "      <th>honorific_suffix</th>\n",
        "      <th>party_id</th>\n",
        "      <th>linkedin_url</th>\n",
        "      <th>elected</th>\n",
        "      <th>image_url</th>\n",
        "      <th>proxy_image_url_template</th>\n",
        "      <th>image_copyright</th>\n",
        "      <th>image_uploading_user</th>\n",
        "      <th>image_uploading_user_notes</th>\n",
        "    </tr>\n",
        "    <tr>\n",
        "      <th>name</th>\n",
        "      <th></th>\n",
        "      <th></th>\n",
        "      <th></th>\n",
        "      <th></th>\n",
        "      <th></th>\n",
        "      <th></th>\n",
        "      <th></th>\n",
        "      <th></th>\n",
        "      <th></th>\n",
        "      <th></th>\n",
        "      <th></th>\n",
        "      <th></th>\n",
        "      <th></th>\n",
        "      <th></th>\n",
        "      <th></th>\n",
        "      <th></th>\n",
        "      <th></th>\n",
        "      <th></th>\n",
        "      <th></th>\n",
        "      <th></th>\n",
        "      <th></th>\n",
        "    </tr>\n",
        "  </thead>\n",
        "  <tbody>\n",
        "    <tr>\n",
        "      <th>Captain Beany</th>\n",
        "      <td>20</td>\n",
        "      <td>Independent</td>\n",
        "      <td>Aberavon</td>\n",
        "      <td>66101</td>\n",
        "      <td>http://mapit.mysociety.org/area/66101</td>\n",
        "      <td>W07000049</td>\n",
        "      <td>captainbeany</td>\n",
        "      <td>https://www.facebook.com/VoteCaptainBeany</td>\n",
        "      <td>NaN</td>\n",
        "      <td>male</td>\n",
        "      <td>...</td>\n",
        "      <td>NaN</td>\n",
        "      <td>NaN</td>\n",
        "      <td>NaN</td>\n",
        "      <td>https://uk.linkedin.com/in/captainbeany</td>\n",
        "      <td>False</td>\n",
        "      <td>http://yournextmp.popit.mysociety.org/persons/...</td>\n",
        "      <td>http://yournextmp.popit.mysociety.org/image-pr...</td>\n",
        "      <td>public-domain</td>\n",
        "      <td>CaptainBeany</td>\n",
        "      <td>NaN</td>\n",
        "    </tr>\n",
        "    <tr>\n",
        "      <th>Peter Bush</th>\n",
        "      <td>6754</td>\n",
        "      <td>UK Independence Party (UKIP)</td>\n",
        "      <td>Aberavon</td>\n",
        "      <td>66101</td>\n",
        "      <td>http://mapit.mysociety.org/area/66101</td>\n",
        "      <td>W07000049</td>\n",
        "      <td>NaN</td>\n",
        "      <td>https://www.facebook.com/peterbushukip</td>\n",
        "      <td>NaN</td>\n",
        "      <td>male</td>\n",
        "      <td>...</td>\n",
        "      <td>NaN</td>\n",
        "      <td>NaN</td>\n",
        "      <td>PP85</td>\n",
        "      <td>NaN</td>\n",
        "      <td>False</td>\n",
        "      <td>http://yournextmp.popit.mysociety.org/persons/...</td>\n",
        "      <td>http://yournextmp.popit.mysociety.org/image-pr...</td>\n",
        "      <td>public-domain</td>\n",
        "      <td>peter3</td>\n",
        "      <td>NaN</td>\n",
        "    </tr>\n",
        "  </tbody>\n",
        "</table>\n",
        "<p>2 rows \u00d7 27 columns</p>\n",
        "</div>"
       ],
       "metadata": {},
       "output_type": "pyout",
       "prompt_number": 4,
       "text": [
        "                 id                         party constituency  mapit_id  \\\n",
        "name                                                                       \n",
        "Captain Beany    20                   Independent     Aberavon     66101   \n",
        "Peter Bush     6754  UK Independence Party (UKIP)     Aberavon     66101   \n",
        "\n",
        "                                           mapit_url   gss_code  \\\n",
        "name                                                              \n",
        "Captain Beany  http://mapit.mysociety.org/area/66101  W07000049   \n",
        "Peter Bush     http://mapit.mysociety.org/area/66101  W07000049   \n",
        "\n",
        "              twitter_username                          facebook_page_url  \\\n",
        "name                                                                        \n",
        "Captain Beany     captainbeany  https://www.facebook.com/VoteCaptainBeany   \n",
        "Peter Bush                 NaN     https://www.facebook.com/peterbushukip   \n",
        "\n",
        "              party_ppc_page_url gender            ...              \\\n",
        "name                                               ...               \n",
        "Captain Beany                NaN   male            ...               \n",
        "Peter Bush                   NaN   male            ...               \n",
        "\n",
        "              honorific_prefix honorific_suffix party_id  \\\n",
        "name                                                       \n",
        "Captain Beany              NaN              NaN      NaN   \n",
        "Peter Bush                 NaN              NaN     PP85   \n",
        "\n",
        "                                          linkedin_url elected  \\\n",
        "name                                                             \n",
        "Captain Beany  https://uk.linkedin.com/in/captainbeany   False   \n",
        "Peter Bush                                         NaN   False   \n",
        "\n",
        "                                                       image_url  \\\n",
        "name                                                               \n",
        "Captain Beany  http://yournextmp.popit.mysociety.org/persons/...   \n",
        "Peter Bush     http://yournextmp.popit.mysociety.org/persons/...   \n",
        "\n",
        "                                        proxy_image_url_template  \\\n",
        "name                                                               \n",
        "Captain Beany  http://yournextmp.popit.mysociety.org/image-pr...   \n",
        "Peter Bush     http://yournextmp.popit.mysociety.org/image-pr...   \n",
        "\n",
        "              image_copyright image_uploading_user image_uploading_user_notes  \n",
        "name                                                                           \n",
        "Captain Beany   public-domain         CaptainBeany                        NaN  \n",
        "Peter Bush      public-domain               peter3                        NaN  \n",
        "\n",
        "[2 rows x 27 columns]"
       ]
      }
     ],
     "prompt_number": 4
    },
    {
     "cell_type": "code",
     "collapsed": false,
     "input": [
      "constituency_gss_codes = candidate_information.gss_code.unique()\n",
      "len(constituency_gss_codes), constituency_gss_codes[:2]"
     ],
     "language": "python",
     "metadata": {},
     "outputs": [
      {
       "metadata": {},
       "output_type": "pyout",
       "prompt_number": 5,
       "text": [
        "(650, array(['W07000049', 'W07000058'], dtype=object))"
       ]
      }
     ],
     "prompt_number": 5
    },
    {
     "cell_type": "markdown",
     "metadata": {},
     "source": [
      "There we can see the first constituency, Aberavon, W0700049. Back to the BBC to get information for each constituency. I'm going to use multiprocessing to do multiple URL requests in parallel, I think the BBC should be able to handle 650 queuries, no sweat."
     ]
    },
    {
     "cell_type": "code",
     "collapsed": false,
     "input": [
      "pool = multiprocessing.Pool(50)\n",
      "all_constituency_raw_data = pool.map(constituency_results, constituency_gss_codes)"
     ],
     "language": "python",
     "metadata": {},
     "outputs": [],
     "prompt_number": 6
    },
    {
     "cell_type": "markdown",
     "metadata": {},
     "source": [
      "Clean the data up a bit before we start to use it.\n",
      "*Note: The seat of John Bercow, the Speaker, is considered non-partisan, but is included in the Conservative pool as it was originally won by the conservatives and John Vercow in 1997, so a vote for Bercow in Buckingham will be treated as a Conservative vote, this is the same treatment as the BBC*"
     ]
    },
    {
     "cell_type": "code",
     "collapsed": false,
     "input": [
      "all_constituency_dataframe = pd.concat(all_constituency_raw_data, axis=1)\n",
      "speaker_is_conservative = pd.Index([aliases.get(p, p) for p in all_constituency_dataframe.index])\n",
      "all_constituency_data = all_constituency_dataframe.groupby(speaker_is_conservative).sum()"
     ],
     "language": "python",
     "metadata": {},
     "outputs": [],
     "prompt_number": 7
    },
    {
     "cell_type": "heading",
     "level": 2,
     "metadata": {},
     "source": [
      "The result"
     ]
    },
    {
     "cell_type": "heading",
     "level": 4,
     "metadata": {},
     "source": [
      "First Past the Post"
     ]
    },
    {
     "cell_type": "markdown",
     "metadata": {},
     "source": [
      "The 2015 UK General election was ran using a first past the post voting system (http://en.wikipedia.org/wiki/First-past-the-post_voting), also referred to as *the winner takes it all*. The party with the most votes wins the election in that constituency, let's see how the election turned out."
     ]
    },
    {
     "cell_type": "markdown",
     "metadata": {},
     "source": [
      "Based on the simple first past the post process, we can recreate the real result. This is how the seats are split between each party today."
     ]
    },
    {
     "cell_type": "code",
     "collapsed": false,
     "input": [
      "real_seats = all_constituency_data.idxmax(axis=0).value_counts()\n",
      "real_seats.plot(kind='bar', title='Seats won in the 2015 UK General Election', color=colors(real_seats.index))"
     ],
     "language": "python",
     "metadata": {},
     "outputs": [
      {
       "metadata": {},
       "output_type": "pyout",
       "prompt_number": 8,
       "text": [
        "<matplotlib.axes._subplots.AxesSubplot at 0x10b886850>"
       ]
      },
      {
       "metadata": {},
       "output_type": "display_data",
       "png": "[encoded data removed]",
       "text": [
        "<matplotlib.figure.Figure at 0x10b87b1d0>"
       ]
      }
     ],
     "prompt_number": 8
    },
    {
     "cell_type": "markdown",
     "metadata": {},
     "source": [
      "*Always the bridesmade and never the bride?*\n",
      "The first past the post system does not reward second place, so a party can gain a lot of votes but win very few seats, which is what happened to the Greens and UKIP."
     ]
    },
    {
     "cell_type": "code",
     "collapsed": false,
     "input": [
      "votes_per_party = all_constituency_data.sum(axis=1)\n",
      "votes = votes_per_party.sort(ascending=False, inplace=False)[:10]\n",
      "votes.plot(kind='bar', title='Votes won in the 2015 UK General Election', color=colors(votes.index))"
     ],
     "language": "python",
     "metadata": {},
     "outputs": [
      {
       "metadata": {},
       "output_type": "pyout",
       "prompt_number": 9,
       "text": [
        "<matplotlib.axes._subplots.AxesSubplot at 0x10afab710>"
       ]
      },
      {
       "metadata": {},
       "output_type": "display_data",
       "png": "[encoded data removed]",
       "text": [
        "<matplotlib.figure.Figure at 0x10b63ba50>"
       ]
      }
     ],
     "prompt_number": 9
    },
    {
     "cell_type": "heading",
     "level": 5,
     "metadata": {},
     "source": [
      "The D'hondt System - Propotional Representation"
     ]
    },
    {
     "cell_type": "markdown",
     "metadata": {},
     "source": [
      "The significant difference between the number of votes and the number of seats received by the parties has called into question the first past the post system. The Electoral Reform Society is campaigning for the use of the d'Hondt system, which attempts to proportionally allocate seats in a manner much more closely aligned to the number of votes a party receives accross the country. If used in the 2015 General Election we'd have had this result.\n",
      "\n",
      "The d'Hondt system takes the original vote count and creates a quotient for each party, according the the following formula: $$quoitient_{p, n} = \\frac{votes_{p}}{n + 1}$$ a quotient is found for every party, $p$ and for values on $n$, ranging from 1 to the number of avalable seats. These quotients are ranked and the top"
     ]
    },
    {
     "cell_type": "code",
     "collapsed": false,
     "input": [
      "def dhondt(votes, total_seats):\n",
      "    total_votes = votes.copy()\n",
      "    seats = defaultdict(int)\n",
      "    for seat in range(total_seats):\n",
      "        winning_party = votes.index[0]\n",
      "        seats[winning_party] +=1\n",
      "        votes[0]=total_votes[winning_party]/(seats[winning_party]+1)\n",
      "        votes.sort(ascending=False)\n",
      "    return seats\n",
      "dhondt_party_seats = dhondt(votes_per_party.copy(),650)\n",
      "dhondt_seats = pd.Series([seats for party,seats in dhondt_party_seats.items()], index=[party for party,seats in dhondt_party_seats.items()])\n",
      "dhondt_seats.sort(ascending=False)\n",
      "dhondt_seats.plot(kind='bar', title='dHondt seats', color=colors(dhondt_seats.index))"
     ],
     "language": "python",
     "metadata": {},
     "outputs": [
      {
       "metadata": {},
       "output_type": "pyout",
       "prompt_number": 10,
       "text": [
        "<matplotlib.axes._subplots.AxesSubplot at 0x10b629190>"
       ]
      },
      {
       "metadata": {},
       "output_type": "display_data",
       "png": "[encoded data removed]",
       "text": [
        "<matplotlib.figure.Figure at 0x10b6553d0>"
       ]
      }
     ],
     "prompt_number": 10
    },
    {
     "cell_type": "code",
     "collapsed": false,
     "input": [
      "fig, axs = plt.subplots(1,3, figsize=(15,4))\n",
      "\n",
      "votes.plot(ax=axs[0], kind='bar', title='Total votes', color=colors(votes.index))\n",
      "real_seats.plot(ax=axs[1], kind='bar', title='First past post seats', color=colors(real_seats.index))\n",
      "dhondt_seats.plot(ax=axs[2], kind='bar', title='dHondt seats', color=colors(dhondt_seats.index))"
     ],
     "language": "python",
     "metadata": {},
     "outputs": [
      {
       "metadata": {},
       "output_type": "pyout",
       "prompt_number": 11,
       "text": [
        "<matplotlib.axes._subplots.AxesSubplot at 0x10b6b6690>"
       ]
      },
      {
       "metadata": {},
       "output_type": "display_data",
       "png": "[encoded data removed]",
       "text": [
        "<matplotlib.figure.Figure at 0x10bb993d0>"
       ]
      }
     ],
     "prompt_number": 11
    },
    {
     "cell_type": "heading",
     "level": 4,
     "metadata": {},
     "source": [
      "Maps!"
     ]
    },
    {
     "cell_type": "markdown",
     "metadata": {},
     "source": [
      "The office of national statistic makes available the geographic constituency data for the whole country, we'll use this to build a map."
     ]
    },
    {
     "cell_type": "code",
     "collapsed": false,
     "input": [
      "def grouper(n, iterable):\n",
      "    return zip(*[iter(iterable)] * n)\n",
      "\n",
      "def constituency_poly(constituency_id):\n",
      "    r = requests.get(\"http://statistics.data.gov.uk/doc/statistical-geography/%s.xml\" % constituency_id)\n",
      "    soup = BeautifulSoup(r.text)\n",
      "    pointText = BeautifulSoup(soup.find(\"extent\").find(\"asgml\").text).find(\"gml:poslist\").text.split()\n",
      "    linear_ring_pairs = grouper(2, map(float, pointText))\n",
      "    return LinearRing(linear_ring_pairs)\n",
      "    \n",
      "constituency_poly('W07000049')"
     ],
     "language": "python",
     "metadata": {},
     "outputs": [
      {
       "metadata": {},
       "output_type": "pyout",
       "prompt_number": 65,
       "svg": [
        "<svg xmlns=\"http://www.w3.org/2000/svg\" xmlns:xlink=\"http://www.w3.org/1999/xlink\" width=\"300\" height=\"300\" viewBox=\"268295.8276 181379.2286 24650.2446105 23202.3434251\" preserveAspectRatio=\"xMinYMin meet\"><g transform=\"matrix(1,0,0,-1,0,385960.800626)\"><polyline fill=\"none\" stroke=\"#66cc99\" stroke-width=\"164.33496407\" points=\"290787.000731,202886.300866 290562.599323,201693.699265 290816.700827,200801.500352 290453.29961,200262.599872 290569.200027,199796.200639 290275.199386,199310.400703 290190.50025,199033.699519 290710.899099,198388.100286 291069.899163,197267.899581 291176.700315,197095.300285 291902.499228,196289.6007 292033.100188,195450.500283 291925.19926,195238.200507 291772.498332,194885.799099 290753.200539,195169.699003 289699.500442,194809.699515 289660.101018,194420.700346 286746.601879,195036.900539 286373.300631,195065.500859 286189.40047,195045.899451 286225.699223,195122.900155 285114.599829,195380.599995 284007.399828,193457.999033 283747.000724,192792.599737 283874.300308,192721.599673 283926.497684,192404.700344 283786.299796,192096.998584 283585.200532,191368.400055 283675.599252,191277.499575 283831.599508,191240.899767 283909.998996,191155.500215 283913.300372,190951.900343 283841.597844,190682.999991 283857.799572,190622.500023 283969.399188,190496.799927 283893.899668,190505.499831 283637.899668,190658.999479 283457.60194,190722.800823 283198.699924,190782.399671 282979.400084,190769.401015 282882.900371,190203.100342 282752.997779,189959.79999 282726.699411,189740.199094 283014.099348,188877.601973 283242.89986,188778.699957 283880.999316,187651.300532 284504.099221,187318.79954 284526.000533,187133.299892 284650.000789,187073.899699 284789.500309,186951.099571 284919.300501,186776.802483 284958.800277,186643.500211 285165.300118,186496.400563 285359.49967,186410.499251 285364.59919,186323.999923 285138.49999,186033.900723 285162.801558,185883.99941 285416.30095,185590.699186 285546.600854,185508.000946 285656.301974,185300.100274 285637.499286,185143.399602 285690.300822,185025.199282 285684.699542,184912.499889 285640.901014,184725.400753 285583.10031,184659.598513 285579.899286,184571.899057 285548.497302,184541.000881 285576.100246,184501.200049 285538.800022,184287.497393 285479.00047,184255.200433 285492.19983,184131.200177 285426.89935,184066.399409 285404.101014,183955.199153 285258.79951,183777.899696 285217.599894,183564.29944 285101.500821,183493.700784 284830.400917,183458.89912 284479.799701,183484.697776 284222.800277,183545.09944 283890.000276,183563.099312 283790.600596,183515.899056 283508.900244,183472.802992 283369.400724,183494.399152 283271.199124,183397.299376 283053.79778,183413.499056 283040.299412,183357.40024 282947.600787,183262.70072 282888.100243,183094.799536 282802.798995,183066.299568 282572.398995,183124.999344 282431.799699,183051.699376 282418.299283,182991.099056 282336.199059,182907.100336 282371.199379,182777.300143 282435.799443,182704.999599 282066.899347,182336.099503 281949.800851,182292.200623 281390.39989,182544.800943 281322.400146,182639.299759 280937.800082,182751.300783 280641.499537,182793.600176 280632.699281,182759.799983 280219.099537,182693.399727 280014.000529,182741.400751 279663.202704,182896.60024 279501.099408,183077.600432 279271.399824,183219.899568 279126.60008,183415.499952 278894.199184,183409.702064 278846.800272,183383.600304 278818.300304,183311.000752 278591.699343,183289.300144 278530.900367,183241.29912 278547.300751,183138.89912 278507.299215,183133.099184 278440.100239,183037.199536 278340.200847,183085.300912 278142.900623,183076.099248 278166.399375,183252.499632 277919.000975,183415.700656 277600.799119,183423.300784 277358.500238,183323.499696 277322.400142,183467.50072 277280.002446,183516.699824 277245.49979,183942.800561 276938.69915,184568.497329 276843.299214,184969.299122 276749.099406,185211.100338 276291.500429,186121.899187 275897.102733,186785.399987 275651.199373,187098.500276 275308.900748,187041.397939 274660.999564,187254.40018 274145.300875,187723.900084 274186.400139,188325.100725 274462.800268,188515.900597 274728.200588,188534.199477 274616.299916,188685.499573 274666.7995,188688.499893 274641.500556,188747.599029 274603.399564,188761.900213 274580.500876,188723.399861 274549.799308,188744.602805 274588.600716,188848.600245 274492.29966,189010.099381 274264.799627,189211.298997 273718.501771,189827.699894 272829.000074,190688.699575 272346.30081,191082.200247 271704.600969,191401.00012 271423.099273,191440.899256 271275.399561,191385.099448 271294.200201,191349.300407 271146.799496,191204.099255 271014.697352,191242.200247 270831.499656,191213.399223 270620.101,190989.700279 270584.600968,190998.500535 270554.700168,190930.799799 270304.199048,190932.100279 270233.799048,191047.400631 270234.599816,191251.100855 270149.998984,191402.200248 270151.100808,191464.099 270327.40084,191511.999672 270347.0002,191552.599224 270312.700296,191589.899448 270394.100104,191595.300024 270392.699272,191616.400568 270311.100808,191632.7006 269964.999047,191564.700856 269876.599175,191608.900792 269766.500743,191560.60076 269582.299527,191666.199736 269498.700167,191756.199096 269322.498439,191839.4974 269266.100615,192033.500344 269277.299079,192100.69932 269368.199559,192219.100344 269572.600199,192234.099896 269503.000967,192250.399928 269506.500999,192924.099769 269302.200711,193077.400761 269208.799623,193106.799801 269352.100231,193138.599097 269299.900807,193340.300473 269512.300935,194179.499194 269500.899719,194491.499706 269901.599111,195258.600635 270284.499336,195867.60006 270420.199816,196172.899516 270387.300744,196302.699708 270430.800264,196381.2999 270432.897416,196486.100156 270380.800392,196514.100412 270348.099976,196608.799932 270382.899592,197082.799293 270465.700232,197133.700285 270671.100296,197145.699517 270673.4002,197183.399101 270818.501,197154.100413 270861.0994,197464.999101 270956.499336,197550.400701 271032.899976,197805.300925 271115.899272,197847.100606 271146.09908,197830.700222 271167.099273,197877.49907 271096.799624,197958.100158 271195.400585,198181.498046 271151.70036,198355.500222 271282.000265,198470.100158 271413.799305,198508.99987 271466.199433,198621.400254 271564.501385,198680.599742 271610.499465,198649.599166 271791.301001,198571.30003 271762.999689,198481.800382 271882.199433,198420.399294 271854.299529,198263.899326 272097.800585,198202.100926 272220.299657,198221.200574 272192.399753,197957.000382 272292.598154,197772.000445 272589.699466,197882.397886 272807.897482,197919.499454 272973.199754,197843.00051 273098.400138,197450.900669 273248.899466,197182.999741 273141.801354,196924.499133 273303.097738,196735.3991 273033.800074,196366.099644 273205.100938,196344.20038 273384.901003,196255.599804 274111.000971,195560.000699 274199.699851,195525.899451 274198.100363,195566.599355 274270.499211,195520.099515 274548.400524,195493.000379 274547.599756,195688.899772 274626.800012,195678.20102 274760.800652,195460.199611 274783.199628,195393.100987 274738.10062,195395.699899 274845.700492,195269.500091 274934.899084,195241.999547 274993.899916,195281.599675 275041.599884,195450.801339 275172.00014,195400.600763 275311.49966,195457.500347 275393.90094,195339.300027 275459.299725,195321.300155 275535.499661,195347.801275 275586.800013,195270.800571 275662.299533,195303.799995 275692.398989,195283.399867 275644.799373,195218.500795 275638.700429,195147.900091 275964.799373,195212.500155 276057.500045,195185.900731 276227.099021,195069.199547 276327.600525,195046.200507 276623.700366,195123.000507 276708.700558,195102.899387 276921.299342,194953.399483 277085.200782,194947.099835 277103.39931,194861.499579 277032.700302,194544.60025 277116.799374,194397.79961 277161.099662,194145.399994 277265.500558,193950.799034 277203.200398,193791.49945 277159.399822,193770.900666 277191.600526,193606.900922 278275.600783,193594.00057 278297.301391,193921.500346 278660.700559,194153.80089 278800.400784,194287.498426 278864.09768,194286.300346 278919.299472,194504.699066 279013.501328,194642.699451 279262.798224,194351.199418 279306.101136,194148.000954 279434.099088,194128.499898 279583.000976,194150.80057 279854.100881,194060.199098 280035.099025,194062.499002 280088.801681,194133.400762 280111.200657,194243.699898 280282.599825,194439.799994 280449.800593,194468.299962 280754.100625,194610.300091 280789.799313,194654.201019 280767.299985,194776.999099 280802.099601,194900.499643 280985.700754,194984.000699 280741.200273,195494.800571 280913.099154,195573.699771 281239.099794,195826.699452 281312.000402,195840.500924 281438.298514,195959.29926 281645.09941,195896.399036 282265.500051,195923.399868 283415.200148,197449.299133 283474.798996,197690.100925 283825.099156,198289.302718 284011.000212,198538.099902 284017.598868,198657.10099 284210.399637,198851.900606 284325.998997,198874.498238 284630.600085,199185.099967 285159.999894,199470.099647 285642.00079,199806.999743 285793.300886,199957.998783 285822.200214,199946.099903 286063.600022,200425.10048 286900.799895,201134.499009 286966.800791,201271.600321 287183.700375,201430.099137 287195.300247,201495.999681 287474.299288,201759.900865 287738.10012,202122.200258 288287.299992,202597.799106 288353.599897,202738.199746 288744.700313,203216.399555 289563.099546,203668.600003 290069.399962,203559.500995 290787.000731,202886.300866\" opacity=\"0.8\" /></g></svg>"
       ],
       "text": [
        "<shapely.geometry.polygon.LinearRing at 0x10d301a90>"
       ]
      }
     ],
     "prompt_number": 65
    },
    {
     "cell_type": "code",
     "collapsed": false,
     "input": [
      "fig = pyplot.figure(1)\n",
      "ax = fig.add_subplot(121)\n",
      "\n",
      "def plot_coords(ax, ob):\n",
      "    x, y = ob.xy\n",
      "    ax.plot(x, y, '', color='#999999', zorder=1)\n",
      "multi = MultiPolygon([\n",
      "    [Polygon(constituency_poly('W07000049')).xy, []]\n",
      "],)\n",
      "patches = [PolygonPatch(multi[0],)]\n",
      "for polygon in multi:\n",
      "    plot_coords(ax, polygon.exterior)\n",
      "    \n",
      "ax.add_collection(PatchCollection(patches,))"
     ],
     "language": "python",
     "metadata": {},
     "outputs": [
      {
       "ename": "ConnectionError",
       "evalue": "HTTPConnectionPool(host='statistics.data.gov.uk', port=80): Max retries exceeded with url: /doc/statistical-geography/W07000049.xml (Caused by <class 'socket.gaierror'>: [Errno 8] nodename nor servname provided, or not known)",
       "output_type": "pyerr",
       "traceback": [
        "\u001b[0;31m---------------------------------------------------------------------------\u001b[0m\n\u001b[0;31mConnectionError\u001b[0m                           Traceback (most recent call last)",
        "\u001b[0;32m<ipython-input-115-01dafbc07e54>\u001b[0m in \u001b[0;36m<module>\u001b[0;34m()\u001b[0m\n\u001b[1;32m      6\u001b[0m     \u001b[0max\u001b[0m\u001b[0;34m.\u001b[0m\u001b[0mplot\u001b[0m\u001b[0;34m(\u001b[0m\u001b[0mx\u001b[0m\u001b[0;34m,\u001b[0m \u001b[0my\u001b[0m\u001b[0;34m,\u001b[0m \u001b[0;34m''\u001b[0m\u001b[0;34m,\u001b[0m \u001b[0mcolor\u001b[0m\u001b[0;34m=\u001b[0m\u001b[0;34m'#999999'\u001b[0m\u001b[0;34m,\u001b[0m \u001b[0mzorder\u001b[0m\u001b[0;34m=\u001b[0m\u001b[0;36m1\u001b[0m\u001b[0;34m)\u001b[0m\u001b[0;34m\u001b[0m\u001b[0m\n\u001b[1;32m      7\u001b[0m multi = MultiPolygon([\n\u001b[0;32m----> 8\u001b[0;31m     \u001b[0;34m[\u001b[0m\u001b[0mPolygon\u001b[0m\u001b[0;34m(\u001b[0m\u001b[0mconstituency_poly\u001b[0m\u001b[0;34m(\u001b[0m\u001b[0;34m'W07000049'\u001b[0m\u001b[0;34m)\u001b[0m\u001b[0;34m)\u001b[0m\u001b[0;34m.\u001b[0m\u001b[0mxy\u001b[0m\u001b[0;34m,\u001b[0m \u001b[0;34m[\u001b[0m\u001b[0;34m]\u001b[0m\u001b[0;34m]\u001b[0m\u001b[0;34m\u001b[0m\u001b[0m\n\u001b[0m\u001b[1;32m      9\u001b[0m ])\n\u001b[1;32m     10\u001b[0m \u001b[0mpatches\u001b[0m \u001b[0;34m=\u001b[0m \u001b[0;34m[\u001b[0m\u001b[0mPolygonPatch\u001b[0m\u001b[0;34m(\u001b[0m\u001b[0mmulti\u001b[0m\u001b[0;34m[\u001b[0m\u001b[0;36m0\u001b[0m\u001b[0;34m]\u001b[0m\u001b[0;34m,\u001b[0m\u001b[0;34m)\u001b[0m\u001b[0;34m]\u001b[0m\u001b[0;34m\u001b[0m\u001b[0m\n",
        "\u001b[0;32m<ipython-input-65-39dcc036a512>\u001b[0m in \u001b[0;36mconstituency_poly\u001b[0;34m(constituency_id)\u001b[0m\n\u001b[1;32m      3\u001b[0m \u001b[0;34m\u001b[0m\u001b[0m\n\u001b[1;32m      4\u001b[0m \u001b[0;32mdef\u001b[0m \u001b[0mconstituency_poly\u001b[0m\u001b[0;34m(\u001b[0m\u001b[0mconstituency_id\u001b[0m\u001b[0;34m)\u001b[0m\u001b[0;34m:\u001b[0m\u001b[0;34m\u001b[0m\u001b[0m\n\u001b[0;32m----> 5\u001b[0;31m     \u001b[0mr\u001b[0m \u001b[0;34m=\u001b[0m \u001b[0mrequests\u001b[0m\u001b[0;34m.\u001b[0m\u001b[0mget\u001b[0m\u001b[0;34m(\u001b[0m\u001b[0;34m\"http://statistics.data.gov.uk/doc/statistical-geography/%s.xml\"\u001b[0m \u001b[0;34m%\u001b[0m \u001b[0mconstituency_id\u001b[0m\u001b[0;34m)\u001b[0m\u001b[0;34m\u001b[0m\u001b[0m\n\u001b[0m\u001b[1;32m      6\u001b[0m     \u001b[0msoup\u001b[0m \u001b[0;34m=\u001b[0m \u001b[0mBeautifulSoup\u001b[0m\u001b[0;34m(\u001b[0m\u001b[0mr\u001b[0m\u001b[0;34m.\u001b[0m\u001b[0mtext\u001b[0m\u001b[0;34m)\u001b[0m\u001b[0;34m\u001b[0m\u001b[0m\n\u001b[1;32m      7\u001b[0m     \u001b[0mpointText\u001b[0m \u001b[0;34m=\u001b[0m \u001b[0mBeautifulSoup\u001b[0m\u001b[0;34m(\u001b[0m\u001b[0msoup\u001b[0m\u001b[0;34m.\u001b[0m\u001b[0mfind\u001b[0m\u001b[0;34m(\u001b[0m\u001b[0;34m\"extent\"\u001b[0m\u001b[0;34m)\u001b[0m\u001b[0;34m.\u001b[0m\u001b[0mfind\u001b[0m\u001b[0;34m(\u001b[0m\u001b[0;34m\"asgml\"\u001b[0m\u001b[0;34m)\u001b[0m\u001b[0;34m.\u001b[0m\u001b[0mtext\u001b[0m\u001b[0;34m)\u001b[0m\u001b[0;34m.\u001b[0m\u001b[0mfind\u001b[0m\u001b[0;34m(\u001b[0m\u001b[0;34m\"gml:poslist\"\u001b[0m\u001b[0;34m)\u001b[0m\u001b[0;34m.\u001b[0m\u001b[0mtext\u001b[0m\u001b[0;34m.\u001b[0m\u001b[0msplit\u001b[0m\u001b[0;34m(\u001b[0m\u001b[0;34m)\u001b[0m\u001b[0;34m\u001b[0m\u001b[0m\n",
        "\u001b[0;32m/Library/Python/2.7/site-packages/requests/api.pyc\u001b[0m in \u001b[0;36mget\u001b[0;34m(url, **kwargs)\u001b[0m\n\u001b[1;32m     53\u001b[0m \u001b[0;34m\u001b[0m\u001b[0m\n\u001b[1;32m     54\u001b[0m     \u001b[0mkwargs\u001b[0m\u001b[0;34m.\u001b[0m\u001b[0msetdefault\u001b[0m\u001b[0;34m(\u001b[0m\u001b[0;34m'allow_redirects'\u001b[0m\u001b[0;34m,\u001b[0m \u001b[0mTrue\u001b[0m\u001b[0;34m)\u001b[0m\u001b[0;34m\u001b[0m\u001b[0m\n\u001b[0;32m---> 55\u001b[0;31m     \u001b[0;32mreturn\u001b[0m \u001b[0mrequest\u001b[0m\u001b[0;34m(\u001b[0m\u001b[0;34m'get'\u001b[0m\u001b[0;34m,\u001b[0m \u001b[0murl\u001b[0m\u001b[0;34m,\u001b[0m \u001b[0;34m**\u001b[0m\u001b[0mkwargs\u001b[0m\u001b[0;34m)\u001b[0m\u001b[0;34m\u001b[0m\u001b[0m\n\u001b[0m\u001b[1;32m     56\u001b[0m \u001b[0;34m\u001b[0m\u001b[0m\n\u001b[1;32m     57\u001b[0m \u001b[0;34m\u001b[0m\u001b[0m\n",
        "\u001b[0;32m/Library/Python/2.7/site-packages/requests/api.pyc\u001b[0m in \u001b[0;36mrequest\u001b[0;34m(method, url, **kwargs)\u001b[0m\n\u001b[1;32m     42\u001b[0m \u001b[0;34m\u001b[0m\u001b[0m\n\u001b[1;32m     43\u001b[0m     \u001b[0msession\u001b[0m \u001b[0;34m=\u001b[0m \u001b[0msessions\u001b[0m\u001b[0;34m.\u001b[0m\u001b[0mSession\u001b[0m\u001b[0;34m(\u001b[0m\u001b[0;34m)\u001b[0m\u001b[0;34m\u001b[0m\u001b[0m\n\u001b[0;32m---> 44\u001b[0;31m     \u001b[0;32mreturn\u001b[0m \u001b[0msession\u001b[0m\u001b[0;34m.\u001b[0m\u001b[0mrequest\u001b[0m\u001b[0;34m(\u001b[0m\u001b[0mmethod\u001b[0m\u001b[0;34m=\u001b[0m\u001b[0mmethod\u001b[0m\u001b[0;34m,\u001b[0m \u001b[0murl\u001b[0m\u001b[0;34m=\u001b[0m\u001b[0murl\u001b[0m\u001b[0;34m,\u001b[0m \u001b[0;34m**\u001b[0m\u001b[0mkwargs\u001b[0m\u001b[0;34m)\u001b[0m\u001b[0;34m\u001b[0m\u001b[0m\n\u001b[0m\u001b[1;32m     45\u001b[0m \u001b[0;34m\u001b[0m\u001b[0m\n\u001b[1;32m     46\u001b[0m \u001b[0;34m\u001b[0m\u001b[0m\n",
        "\u001b[0;32m/Library/Python/2.7/site-packages/requests/sessions.pyc\u001b[0m in \u001b[0;36mrequest\u001b[0;34m(self, method, url, params, data, headers, cookies, files, auth, timeout, allow_redirects, proxies, hooks, stream, verify, cert)\u001b[0m\n\u001b[1;32m    380\u001b[0m             \u001b[0;34m'allow_redirects'\u001b[0m\u001b[0;34m:\u001b[0m \u001b[0mallow_redirects\u001b[0m\u001b[0;34m,\u001b[0m\u001b[0;34m\u001b[0m\u001b[0m\n\u001b[1;32m    381\u001b[0m         }\n\u001b[0;32m--> 382\u001b[0;31m         \u001b[0mresp\u001b[0m \u001b[0;34m=\u001b[0m \u001b[0mself\u001b[0m\u001b[0;34m.\u001b[0m\u001b[0msend\u001b[0m\u001b[0;34m(\u001b[0m\u001b[0mprep\u001b[0m\u001b[0;34m,\u001b[0m \u001b[0;34m**\u001b[0m\u001b[0msend_kwargs\u001b[0m\u001b[0;34m)\u001b[0m\u001b[0;34m\u001b[0m\u001b[0m\n\u001b[0m\u001b[1;32m    383\u001b[0m \u001b[0;34m\u001b[0m\u001b[0m\n\u001b[1;32m    384\u001b[0m         \u001b[0;32mreturn\u001b[0m \u001b[0mresp\u001b[0m\u001b[0;34m\u001b[0m\u001b[0m\n",
        "\u001b[0;32m/Library/Python/2.7/site-packages/requests/sessions.pyc\u001b[0m in \u001b[0;36msend\u001b[0;34m(self, request, **kwargs)\u001b[0m\n\u001b[1;32m    483\u001b[0m         \u001b[0mstart\u001b[0m \u001b[0;34m=\u001b[0m \u001b[0mdatetime\u001b[0m\u001b[0;34m.\u001b[0m\u001b[0mutcnow\u001b[0m\u001b[0;34m(\u001b[0m\u001b[0;34m)\u001b[0m\u001b[0;34m\u001b[0m\u001b[0m\n\u001b[1;32m    484\u001b[0m         \u001b[0;31m# Send the request\u001b[0m\u001b[0;34m\u001b[0m\u001b[0;34m\u001b[0m\u001b[0m\n\u001b[0;32m--> 485\u001b[0;31m         \u001b[0mr\u001b[0m \u001b[0;34m=\u001b[0m \u001b[0madapter\u001b[0m\u001b[0;34m.\u001b[0m\u001b[0msend\u001b[0m\u001b[0;34m(\u001b[0m\u001b[0mrequest\u001b[0m\u001b[0;34m,\u001b[0m \u001b[0;34m**\u001b[0m\u001b[0mkwargs\u001b[0m\u001b[0;34m)\u001b[0m\u001b[0;34m\u001b[0m\u001b[0m\n\u001b[0m\u001b[1;32m    486\u001b[0m         \u001b[0;31m# Total elapsed time of the request (approximately)\u001b[0m\u001b[0;34m\u001b[0m\u001b[0;34m\u001b[0m\u001b[0m\n\u001b[1;32m    487\u001b[0m         \u001b[0mr\u001b[0m\u001b[0;34m.\u001b[0m\u001b[0melapsed\u001b[0m \u001b[0;34m=\u001b[0m \u001b[0mdatetime\u001b[0m\u001b[0;34m.\u001b[0m\u001b[0mutcnow\u001b[0m\u001b[0;34m(\u001b[0m\u001b[0;34m)\u001b[0m \u001b[0;34m-\u001b[0m \u001b[0mstart\u001b[0m\u001b[0;34m\u001b[0m\u001b[0m\n",
        "\u001b[0;32m/Library/Python/2.7/site-packages/requests/adapters.pyc\u001b[0m in \u001b[0;36msend\u001b[0;34m(self, request, stream, timeout, verify, cert, proxies)\u001b[0m\n\u001b[1;32m    370\u001b[0m \u001b[0;34m\u001b[0m\u001b[0m\n\u001b[1;32m    371\u001b[0m         \u001b[0;32mexcept\u001b[0m \u001b[0mMaxRetryError\u001b[0m \u001b[0;32mas\u001b[0m \u001b[0me\u001b[0m\u001b[0;34m:\u001b[0m\u001b[0;34m\u001b[0m\u001b[0m\n\u001b[0;32m--> 372\u001b[0;31m             \u001b[0;32mraise\u001b[0m \u001b[0mConnectionError\u001b[0m\u001b[0;34m(\u001b[0m\u001b[0me\u001b[0m\u001b[0;34m)\u001b[0m\u001b[0;34m\u001b[0m\u001b[0m\n\u001b[0m\u001b[1;32m    373\u001b[0m \u001b[0;34m\u001b[0m\u001b[0m\n\u001b[1;32m    374\u001b[0m         \u001b[0;32mexcept\u001b[0m \u001b[0m_ProxyError\u001b[0m \u001b[0;32mas\u001b[0m \u001b[0me\u001b[0m\u001b[0;34m:\u001b[0m\u001b[0;34m\u001b[0m\u001b[0m\n",
        "\u001b[0;31mConnectionError\u001b[0m: HTTPConnectionPool(host='statistics.data.gov.uk', port=80): Max retries exceeded with url: /doc/statistical-geography/W07000049.xml (Caused by <class 'socket.gaierror'>: [Errno 8] nodename nor servname provided, or not known)"
       ]
      },
      {
       "metadata": {},
       "output_type": "display_data",
       "png": "[encoded data removed]",
       "text": [
        "<matplotlib.figure.Figure at 0x10b29c950>"
       ]
      }
     ],
     "prompt_number": 115
    },
    {
     "cell_type": "code",
     "collapsed": false,
     "input": [
      "# work in progress\n",
      "# lower left minx miny , upper right maxx maxy\n",
      "bounds = [-6.108398, 49.61071, 1.669922, 58.972667]\n",
      "minx, miny, maxx, maxy = bounds\n",
      "w, h = maxx - minx, maxy - miny\n",
      "import itertools\n",
      "m = Basemap(\n",
      "    projection='merc',\n",
      "    ellps = 'WGS84',\n",
      "    llcrnrlon=minx - 0.2 * w,\n",
      "    llcrnrlat=miny - 0.2 * h,\n",
      "    urcrnrlon=maxx + 0.2 * w,\n",
      "    urcrnrlat=maxy + 0.2 * h,\n",
      "    lat_ts=0,\n",
      "    resolution='h')\n"
     ],
     "language": "python",
     "metadata": {},
     "outputs": [],
     "prompt_number": 113
    },
    {
     "cell_type": "heading",
     "level": 5,
     "metadata": {},
     "source": [
      "Power per vote"
     ]
    },
    {
     "cell_type": "heading",
     "level": 5,
     "metadata": {},
     "source": [
      "Power per vote geographically"
     ]
    },
    {
     "cell_type": "code",
     "collapsed": false,
     "input": [],
     "language": "python",
     "metadata": {},
     "outputs": []
    },
    {
     "cell_type": "code",
     "collapsed": false,
     "input": [],
     "language": "python",
     "metadata": {},
     "outputs": []
    },
    {
     "cell_type": "code",
     "collapsed": false,
     "input": [],
     "language": "python",
     "metadata": {},
     "outputs": []
    },
    {
     "cell_type": "code",
     "collapsed": false,
     "input": [],
     "language": "python",
     "metadata": {},
     "outputs": []
    },
    {
     "cell_type": "code",
     "collapsed": false,
     "input": [],
     "language": "python",
     "metadata": {},
     "outputs": []
    },
    {
     "cell_type": "code",
     "collapsed": false,
     "input": [],
     "language": "python",
     "metadata": {},
     "outputs": []
    },
    {
     "cell_type": "code",
     "collapsed": false,
     "input": [],
     "language": "python",
     "metadata": {},
     "outputs": []
    },
    {
     "cell_type": "code",
     "collapsed": false,
     "input": [],
     "language": "python",
     "metadata": {},
     "outputs": []
    },
    {
     "cell_type": "code",
     "collapsed": false,
     "input": [],
     "language": "python",
     "metadata": {},
     "outputs": []
    }
   ],
   "metadata": {}
  }
 ]
}